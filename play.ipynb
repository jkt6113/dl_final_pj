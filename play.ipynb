{
 "cells": [
  {
   "cell_type": "code",
   "execution_count": 1,
   "metadata": {
    "collapsed": true
   },
   "outputs": [],
   "source": [
    "import pandas as pd\n"
   ]
  },
  {
   "cell_type": "code",
   "execution_count": 2,
   "outputs": [],
   "source": [
    "test = pd.read_pickle(f'./data/jqdata_a_stocks_5min_000001.pkl')\n"
   ],
   "metadata": {
    "collapsed": false,
    "pycharm": {
     "name": "#%%\n"
    }
   }
  },
  {
   "cell_type": "code",
   "execution_count": 3,
   "outputs": [
    {
     "data": {
      "text/plain": "                        open    close     high      low       volume  \\\n2014-01-02 09:35:00  2112.13  2109.52  2112.13  2107.44  277763800.0   \n2014-01-02 09:40:00  2109.74  2108.22  2110.59  2107.20  234198000.0   \n2014-01-02 09:45:00  2107.97  2111.55  2112.32  2107.35  207822800.0   \n2014-01-02 09:50:00  2111.69  2110.72  2112.91  2110.55  194697300.0   \n2014-01-02 09:55:00  2110.67  2108.89  2111.14  2108.55  183548800.0   \n...                      ...      ...      ...      ...          ...   \n2020-12-31 14:40:00  3469.69  3473.07  3473.51  3469.57  559210100.0   \n2020-12-31 14:45:00  3473.14  3473.60  3474.92  3473.06  662602300.0   \n2020-12-31 14:50:00  3474.02  3472.64  3474.47  3472.11  715294300.0   \n2020-12-31 14:55:00  3471.99  3471.85  3472.49  3470.85  938424900.0   \n2020-12-31 15:00:00  3472.19  3473.07  3473.57  3471.36  988068700.0   \n\n                            money  \n2014-01-02 09:35:00  2.360719e+09  \n2014-01-02 09:40:00  2.048853e+09  \n2014-01-02 09:45:00  1.855826e+09  \n2014-01-02 09:50:00  1.790915e+09  \n2014-01-02 09:55:00  1.719280e+09  \n...                           ...  \n2020-12-31 14:40:00  7.874534e+09  \n2020-12-31 14:45:00  9.602388e+09  \n2020-12-31 14:50:00  9.748412e+09  \n2020-12-31 14:55:00  1.192759e+10  \n2020-12-31 15:00:00  1.255184e+10  \n\n[81936 rows x 6 columns]",
      "text/html": "<div>\n<style scoped>\n    .dataframe tbody tr th:only-of-type {\n        vertical-align: middle;\n    }\n\n    .dataframe tbody tr th {\n        vertical-align: top;\n    }\n\n    .dataframe thead th {\n        text-align: right;\n    }\n</style>\n<table border=\"1\" class=\"dataframe\">\n  <thead>\n    <tr style=\"text-align: right;\">\n      <th></th>\n      <th>open</th>\n      <th>close</th>\n      <th>high</th>\n      <th>low</th>\n      <th>volume</th>\n      <th>money</th>\n    </tr>\n  </thead>\n  <tbody>\n    <tr>\n      <th>2014-01-02 09:35:00</th>\n      <td>2112.13</td>\n      <td>2109.52</td>\n      <td>2112.13</td>\n      <td>2107.44</td>\n      <td>277763800.0</td>\n      <td>2.360719e+09</td>\n    </tr>\n    <tr>\n      <th>2014-01-02 09:40:00</th>\n      <td>2109.74</td>\n      <td>2108.22</td>\n      <td>2110.59</td>\n      <td>2107.20</td>\n      <td>234198000.0</td>\n      <td>2.048853e+09</td>\n    </tr>\n    <tr>\n      <th>2014-01-02 09:45:00</th>\n      <td>2107.97</td>\n      <td>2111.55</td>\n      <td>2112.32</td>\n      <td>2107.35</td>\n      <td>207822800.0</td>\n      <td>1.855826e+09</td>\n    </tr>\n    <tr>\n      <th>2014-01-02 09:50:00</th>\n      <td>2111.69</td>\n      <td>2110.72</td>\n      <td>2112.91</td>\n      <td>2110.55</td>\n      <td>194697300.0</td>\n      <td>1.790915e+09</td>\n    </tr>\n    <tr>\n      <th>2014-01-02 09:55:00</th>\n      <td>2110.67</td>\n      <td>2108.89</td>\n      <td>2111.14</td>\n      <td>2108.55</td>\n      <td>183548800.0</td>\n      <td>1.719280e+09</td>\n    </tr>\n    <tr>\n      <th>...</th>\n      <td>...</td>\n      <td>...</td>\n      <td>...</td>\n      <td>...</td>\n      <td>...</td>\n      <td>...</td>\n    </tr>\n    <tr>\n      <th>2020-12-31 14:40:00</th>\n      <td>3469.69</td>\n      <td>3473.07</td>\n      <td>3473.51</td>\n      <td>3469.57</td>\n      <td>559210100.0</td>\n      <td>7.874534e+09</td>\n    </tr>\n    <tr>\n      <th>2020-12-31 14:45:00</th>\n      <td>3473.14</td>\n      <td>3473.60</td>\n      <td>3474.92</td>\n      <td>3473.06</td>\n      <td>662602300.0</td>\n      <td>9.602388e+09</td>\n    </tr>\n    <tr>\n      <th>2020-12-31 14:50:00</th>\n      <td>3474.02</td>\n      <td>3472.64</td>\n      <td>3474.47</td>\n      <td>3472.11</td>\n      <td>715294300.0</td>\n      <td>9.748412e+09</td>\n    </tr>\n    <tr>\n      <th>2020-12-31 14:55:00</th>\n      <td>3471.99</td>\n      <td>3471.85</td>\n      <td>3472.49</td>\n      <td>3470.85</td>\n      <td>938424900.0</td>\n      <td>1.192759e+10</td>\n    </tr>\n    <tr>\n      <th>2020-12-31 15:00:00</th>\n      <td>3472.19</td>\n      <td>3473.07</td>\n      <td>3473.57</td>\n      <td>3471.36</td>\n      <td>988068700.0</td>\n      <td>1.255184e+10</td>\n    </tr>\n  </tbody>\n</table>\n<p>81936 rows × 6 columns</p>\n</div>"
     },
     "execution_count": 3,
     "metadata": {},
     "output_type": "execute_result"
    }
   ],
   "source": [
    "test"
   ],
   "metadata": {
    "collapsed": false,
    "pycharm": {
     "name": "#%%\n"
    }
   }
  },
  {
   "cell_type": "code",
   "execution_count": 4,
   "outputs": [],
   "source": [
    "test.fillna(value=0.0, inplace=True)"
   ],
   "metadata": {
    "collapsed": false,
    "pycharm": {
     "name": "#%%\n"
    }
   }
  },
  {
   "cell_type": "code",
   "execution_count": 5,
   "outputs": [],
   "source": [
    "test1 = pd.read_pickle(f'./data/jqdata_a_stocks_capitalization_2014.pkl')\n"
   ],
   "metadata": {
    "collapsed": false,
    "pycharm": {
     "name": "#%%\n"
    }
   }
  },
  {
   "cell_type": "code",
   "execution_count": 6,
   "outputs": [
    {
     "data": {
      "text/plain": "               code  capitalization        date\n0       000001.XSHE    8.197361e+05  2014-01-02\n1       000002.XSHE    1.101497e+06  2014-01-02\n2       000004.XSHE    8.397668e+03  2014-01-02\n3       000005.XSHE    9.143336e+04  2014-01-02\n4       000006.XSHE    1.349995e+05  2014-01-02\n...             ...             ...         ...\n620798  603806.XSHG    4.020000e+04  2014-12-31\n620799  603889.XSHG    1.066800e+04  2014-12-31\n620800  603988.XSHG    8.000000e+03  2014-12-31\n620801  603993.XSHG    5.076171e+05  2014-12-31\n620802  603998.XSHG    1.090248e+04  2014-12-31\n\n[620803 rows x 3 columns]",
      "text/html": "<div>\n<style scoped>\n    .dataframe tbody tr th:only-of-type {\n        vertical-align: middle;\n    }\n\n    .dataframe tbody tr th {\n        vertical-align: top;\n    }\n\n    .dataframe thead th {\n        text-align: right;\n    }\n</style>\n<table border=\"1\" class=\"dataframe\">\n  <thead>\n    <tr style=\"text-align: right;\">\n      <th></th>\n      <th>code</th>\n      <th>capitalization</th>\n      <th>date</th>\n    </tr>\n  </thead>\n  <tbody>\n    <tr>\n      <th>0</th>\n      <td>000001.XSHE</td>\n      <td>8.197361e+05</td>\n      <td>2014-01-02</td>\n    </tr>\n    <tr>\n      <th>1</th>\n      <td>000002.XSHE</td>\n      <td>1.101497e+06</td>\n      <td>2014-01-02</td>\n    </tr>\n    <tr>\n      <th>2</th>\n      <td>000004.XSHE</td>\n      <td>8.397668e+03</td>\n      <td>2014-01-02</td>\n    </tr>\n    <tr>\n      <th>3</th>\n      <td>000005.XSHE</td>\n      <td>9.143336e+04</td>\n      <td>2014-01-02</td>\n    </tr>\n    <tr>\n      <th>4</th>\n      <td>000006.XSHE</td>\n      <td>1.349995e+05</td>\n      <td>2014-01-02</td>\n    </tr>\n    <tr>\n      <th>...</th>\n      <td>...</td>\n      <td>...</td>\n      <td>...</td>\n    </tr>\n    <tr>\n      <th>620798</th>\n      <td>603806.XSHG</td>\n      <td>4.020000e+04</td>\n      <td>2014-12-31</td>\n    </tr>\n    <tr>\n      <th>620799</th>\n      <td>603889.XSHG</td>\n      <td>1.066800e+04</td>\n      <td>2014-12-31</td>\n    </tr>\n    <tr>\n      <th>620800</th>\n      <td>603988.XSHG</td>\n      <td>8.000000e+03</td>\n      <td>2014-12-31</td>\n    </tr>\n    <tr>\n      <th>620801</th>\n      <td>603993.XSHG</td>\n      <td>5.076171e+05</td>\n      <td>2014-12-31</td>\n    </tr>\n    <tr>\n      <th>620802</th>\n      <td>603998.XSHG</td>\n      <td>1.090248e+04</td>\n      <td>2014-12-31</td>\n    </tr>\n  </tbody>\n</table>\n<p>620803 rows × 3 columns</p>\n</div>"
     },
     "execution_count": 6,
     "metadata": {},
     "output_type": "execute_result"
    }
   ],
   "source": [
    "test1\n"
   ],
   "metadata": {
    "collapsed": false,
    "pycharm": {
     "name": "#%%\n"
    }
   }
  },
  {
   "cell_type": "code",
   "execution_count": 7,
   "outputs": [],
   "source": [
    "test2 = pd.read_pickle(f'./data/jqdata_a_stocks_5min_2018.pkl')"
   ],
   "metadata": {
    "collapsed": false,
    "pycharm": {
     "name": "#%%\n"
    }
   }
  },
  {
   "cell_type": "code",
   "execution_count": 8,
   "outputs": [
    {
     "data": {
      "text/plain": "                        time         code     open    close     high      low  \\\n0        2018-01-02 09:35:00  000001.XSHE  1544.81  1547.12  1549.44  1541.34   \n1        2018-01-02 09:40:00  000001.XSHE  1547.12  1564.48  1564.48  1547.12   \n2        2018-01-02 09:45:00  000001.XSHE  1564.48  1571.42  1579.52  1563.32   \n3        2018-01-02 09:50:00  000001.XSHE  1567.95  1573.74  1579.52  1567.95   \n4        2018-01-02 09:55:00  000001.XSHE  1572.58  1598.04  1598.04  1572.58   \n...                      ...          ...      ...      ...      ...      ...   \n41151307 2018-12-28 14:40:00  603999.XSHG    11.79    11.81    11.84    11.79   \n41151308 2018-12-28 14:45:00  603999.XSHG    11.84    11.81    11.86    11.81   \n41151309 2018-12-28 14:50:00  603999.XSHG    11.81    11.77    11.81    11.77   \n41151310 2018-12-28 14:55:00  603999.XSHG    11.79    11.77    11.79    11.72   \n41151311 2018-12-28 15:00:00  603999.XSHG    11.77    11.79    11.79    11.77   \n\n                 volume        money  \n0          62661.138831   96863738.0  \n1          75623.039027  117955900.0  \n2          94874.472501  149133648.0  \n3          72010.748686  113392480.0  \n4         142201.525254  226098068.0  \n...                 ...          ...  \n41151307   14203.901612     167721.0  \n41151308   30501.441900     360612.0  \n41151309   24466.836302     288690.0  \n41151310   40477.014419     475739.0  \n41151311   31445.631891     370637.0  \n\n[41151312 rows x 8 columns]",
      "text/html": "<div>\n<style scoped>\n    .dataframe tbody tr th:only-of-type {\n        vertical-align: middle;\n    }\n\n    .dataframe tbody tr th {\n        vertical-align: top;\n    }\n\n    .dataframe thead th {\n        text-align: right;\n    }\n</style>\n<table border=\"1\" class=\"dataframe\">\n  <thead>\n    <tr style=\"text-align: right;\">\n      <th></th>\n      <th>time</th>\n      <th>code</th>\n      <th>open</th>\n      <th>close</th>\n      <th>high</th>\n      <th>low</th>\n      <th>volume</th>\n      <th>money</th>\n    </tr>\n  </thead>\n  <tbody>\n    <tr>\n      <th>0</th>\n      <td>2018-01-02 09:35:00</td>\n      <td>000001.XSHE</td>\n      <td>1544.81</td>\n      <td>1547.12</td>\n      <td>1549.44</td>\n      <td>1541.34</td>\n      <td>62661.138831</td>\n      <td>96863738.0</td>\n    </tr>\n    <tr>\n      <th>1</th>\n      <td>2018-01-02 09:40:00</td>\n      <td>000001.XSHE</td>\n      <td>1547.12</td>\n      <td>1564.48</td>\n      <td>1564.48</td>\n      <td>1547.12</td>\n      <td>75623.039027</td>\n      <td>117955900.0</td>\n    </tr>\n    <tr>\n      <th>2</th>\n      <td>2018-01-02 09:45:00</td>\n      <td>000001.XSHE</td>\n      <td>1564.48</td>\n      <td>1571.42</td>\n      <td>1579.52</td>\n      <td>1563.32</td>\n      <td>94874.472501</td>\n      <td>149133648.0</td>\n    </tr>\n    <tr>\n      <th>3</th>\n      <td>2018-01-02 09:50:00</td>\n      <td>000001.XSHE</td>\n      <td>1567.95</td>\n      <td>1573.74</td>\n      <td>1579.52</td>\n      <td>1567.95</td>\n      <td>72010.748686</td>\n      <td>113392480.0</td>\n    </tr>\n    <tr>\n      <th>4</th>\n      <td>2018-01-02 09:55:00</td>\n      <td>000001.XSHE</td>\n      <td>1572.58</td>\n      <td>1598.04</td>\n      <td>1598.04</td>\n      <td>1572.58</td>\n      <td>142201.525254</td>\n      <td>226098068.0</td>\n    </tr>\n    <tr>\n      <th>...</th>\n      <td>...</td>\n      <td>...</td>\n      <td>...</td>\n      <td>...</td>\n      <td>...</td>\n      <td>...</td>\n      <td>...</td>\n      <td>...</td>\n    </tr>\n    <tr>\n      <th>41151307</th>\n      <td>2018-12-28 14:40:00</td>\n      <td>603999.XSHG</td>\n      <td>11.79</td>\n      <td>11.81</td>\n      <td>11.84</td>\n      <td>11.79</td>\n      <td>14203.901612</td>\n      <td>167721.0</td>\n    </tr>\n    <tr>\n      <th>41151308</th>\n      <td>2018-12-28 14:45:00</td>\n      <td>603999.XSHG</td>\n      <td>11.84</td>\n      <td>11.81</td>\n      <td>11.86</td>\n      <td>11.81</td>\n      <td>30501.441900</td>\n      <td>360612.0</td>\n    </tr>\n    <tr>\n      <th>41151309</th>\n      <td>2018-12-28 14:50:00</td>\n      <td>603999.XSHG</td>\n      <td>11.81</td>\n      <td>11.77</td>\n      <td>11.81</td>\n      <td>11.77</td>\n      <td>24466.836302</td>\n      <td>288690.0</td>\n    </tr>\n    <tr>\n      <th>41151310</th>\n      <td>2018-12-28 14:55:00</td>\n      <td>603999.XSHG</td>\n      <td>11.79</td>\n      <td>11.77</td>\n      <td>11.79</td>\n      <td>11.72</td>\n      <td>40477.014419</td>\n      <td>475739.0</td>\n    </tr>\n    <tr>\n      <th>41151311</th>\n      <td>2018-12-28 15:00:00</td>\n      <td>603999.XSHG</td>\n      <td>11.77</td>\n      <td>11.79</td>\n      <td>11.79</td>\n      <td>11.77</td>\n      <td>31445.631891</td>\n      <td>370637.0</td>\n    </tr>\n  </tbody>\n</table>\n<p>41151312 rows × 8 columns</p>\n</div>"
     },
     "execution_count": 8,
     "metadata": {},
     "output_type": "execute_result"
    }
   ],
   "source": [
    "test2\n"
   ],
   "metadata": {
    "collapsed": false,
    "pycharm": {
     "name": "#%%\n"
    }
   }
  },
  {
   "cell_type": "code",
   "execution_count": 9,
   "outputs": [
    {
     "data": {
      "text/plain": "                        open    close     high      low       volume  \\\n2014-01-02 09:35:00  2112.13  2109.52  2112.13  2107.44  277763800.0   \n2014-01-02 09:40:00  2109.74  2108.22  2110.59  2107.20  234198000.0   \n2014-01-02 09:45:00  2107.97  2111.55  2112.32  2107.35  207822800.0   \n2014-01-02 09:50:00  2111.69  2110.72  2112.91  2110.55  194697300.0   \n2014-01-02 09:55:00  2110.67  2108.89  2111.14  2108.55  183548800.0   \n...                      ...      ...      ...      ...          ...   \n2020-12-31 14:40:00  3469.69  3473.07  3473.51  3469.57  559210100.0   \n2020-12-31 14:45:00  3473.14  3473.60  3474.92  3473.06  662602300.0   \n2020-12-31 14:50:00  3474.02  3472.64  3474.47  3472.11  715294300.0   \n2020-12-31 14:55:00  3471.99  3471.85  3472.49  3470.85  938424900.0   \n2020-12-31 15:00:00  3472.19  3473.07  3473.57  3471.36  988068700.0   \n\n                            money  \n2014-01-02 09:35:00  2.360719e+09  \n2014-01-02 09:40:00  2.048853e+09  \n2014-01-02 09:45:00  1.855826e+09  \n2014-01-02 09:50:00  1.790915e+09  \n2014-01-02 09:55:00  1.719280e+09  \n...                           ...  \n2020-12-31 14:40:00  7.874534e+09  \n2020-12-31 14:45:00  9.602388e+09  \n2020-12-31 14:50:00  9.748412e+09  \n2020-12-31 14:55:00  1.192759e+10  \n2020-12-31 15:00:00  1.255184e+10  \n\n[81936 rows x 6 columns]",
      "text/html": "<div>\n<style scoped>\n    .dataframe tbody tr th:only-of-type {\n        vertical-align: middle;\n    }\n\n    .dataframe tbody tr th {\n        vertical-align: top;\n    }\n\n    .dataframe thead th {\n        text-align: right;\n    }\n</style>\n<table border=\"1\" class=\"dataframe\">\n  <thead>\n    <tr style=\"text-align: right;\">\n      <th></th>\n      <th>open</th>\n      <th>close</th>\n      <th>high</th>\n      <th>low</th>\n      <th>volume</th>\n      <th>money</th>\n    </tr>\n  </thead>\n  <tbody>\n    <tr>\n      <th>2014-01-02 09:35:00</th>\n      <td>2112.13</td>\n      <td>2109.52</td>\n      <td>2112.13</td>\n      <td>2107.44</td>\n      <td>277763800.0</td>\n      <td>2.360719e+09</td>\n    </tr>\n    <tr>\n      <th>2014-01-02 09:40:00</th>\n      <td>2109.74</td>\n      <td>2108.22</td>\n      <td>2110.59</td>\n      <td>2107.20</td>\n      <td>234198000.0</td>\n      <td>2.048853e+09</td>\n    </tr>\n    <tr>\n      <th>2014-01-02 09:45:00</th>\n      <td>2107.97</td>\n      <td>2111.55</td>\n      <td>2112.32</td>\n      <td>2107.35</td>\n      <td>207822800.0</td>\n      <td>1.855826e+09</td>\n    </tr>\n    <tr>\n      <th>2014-01-02 09:50:00</th>\n      <td>2111.69</td>\n      <td>2110.72</td>\n      <td>2112.91</td>\n      <td>2110.55</td>\n      <td>194697300.0</td>\n      <td>1.790915e+09</td>\n    </tr>\n    <tr>\n      <th>2014-01-02 09:55:00</th>\n      <td>2110.67</td>\n      <td>2108.89</td>\n      <td>2111.14</td>\n      <td>2108.55</td>\n      <td>183548800.0</td>\n      <td>1.719280e+09</td>\n    </tr>\n    <tr>\n      <th>...</th>\n      <td>...</td>\n      <td>...</td>\n      <td>...</td>\n      <td>...</td>\n      <td>...</td>\n      <td>...</td>\n    </tr>\n    <tr>\n      <th>2020-12-31 14:40:00</th>\n      <td>3469.69</td>\n      <td>3473.07</td>\n      <td>3473.51</td>\n      <td>3469.57</td>\n      <td>559210100.0</td>\n      <td>7.874534e+09</td>\n    </tr>\n    <tr>\n      <th>2020-12-31 14:45:00</th>\n      <td>3473.14</td>\n      <td>3473.60</td>\n      <td>3474.92</td>\n      <td>3473.06</td>\n      <td>662602300.0</td>\n      <td>9.602388e+09</td>\n    </tr>\n    <tr>\n      <th>2020-12-31 14:50:00</th>\n      <td>3474.02</td>\n      <td>3472.64</td>\n      <td>3474.47</td>\n      <td>3472.11</td>\n      <td>715294300.0</td>\n      <td>9.748412e+09</td>\n    </tr>\n    <tr>\n      <th>2020-12-31 14:55:00</th>\n      <td>3471.99</td>\n      <td>3471.85</td>\n      <td>3472.49</td>\n      <td>3470.85</td>\n      <td>938424900.0</td>\n      <td>1.192759e+10</td>\n    </tr>\n    <tr>\n      <th>2020-12-31 15:00:00</th>\n      <td>3472.19</td>\n      <td>3473.07</td>\n      <td>3473.57</td>\n      <td>3471.36</td>\n      <td>988068700.0</td>\n      <td>1.255184e+10</td>\n    </tr>\n  </tbody>\n</table>\n<p>81936 rows × 6 columns</p>\n</div>"
     },
     "execution_count": 9,
     "metadata": {},
     "output_type": "execute_result"
    }
   ],
   "source": [
    "test\n"
   ],
   "metadata": {
    "collapsed": false,
    "pycharm": {
     "name": "#%%\n"
    }
   }
  },
  {
   "cell_type": "code",
   "execution_count": 10,
   "outputs": [
    {
     "data": {
      "text/plain": "Index(['open', 'close', 'high', 'low', 'volume', 'money'], dtype='object')"
     },
     "execution_count": 10,
     "metadata": {},
     "output_type": "execute_result"
    }
   ],
   "source": [
    "test.columns"
   ],
   "metadata": {
    "collapsed": false,
    "pycharm": {
     "name": "#%%\n"
    }
   }
  },
  {
   "cell_type": "code",
   "execution_count": 11,
   "outputs": [],
   "source": [
    "test.reset_index(inplace=True)"
   ],
   "metadata": {
    "collapsed": false,
    "pycharm": {
     "name": "#%%\n"
    }
   }
  },
  {
   "cell_type": "code",
   "execution_count": 12,
   "outputs": [
    {
     "data": {
      "text/plain": "                    index     open    close     high      low       volume  \\\n0     2014-01-02 09:35:00  2112.13  2109.52  2112.13  2107.44  277763800.0   \n1     2014-01-02 09:40:00  2109.74  2108.22  2110.59  2107.20  234198000.0   \n2     2014-01-02 09:45:00  2107.97  2111.55  2112.32  2107.35  207822800.0   \n3     2014-01-02 09:50:00  2111.69  2110.72  2112.91  2110.55  194697300.0   \n4     2014-01-02 09:55:00  2110.67  2108.89  2111.14  2108.55  183548800.0   \n...                   ...      ...      ...      ...      ...          ...   \n81931 2020-12-31 14:40:00  3469.69  3473.07  3473.51  3469.57  559210100.0   \n81932 2020-12-31 14:45:00  3473.14  3473.60  3474.92  3473.06  662602300.0   \n81933 2020-12-31 14:50:00  3474.02  3472.64  3474.47  3472.11  715294300.0   \n81934 2020-12-31 14:55:00  3471.99  3471.85  3472.49  3470.85  938424900.0   \n81935 2020-12-31 15:00:00  3472.19  3473.07  3473.57  3471.36  988068700.0   \n\n              money  \n0      2.360719e+09  \n1      2.048853e+09  \n2      1.855826e+09  \n3      1.790915e+09  \n4      1.719280e+09  \n...             ...  \n81931  7.874534e+09  \n81932  9.602388e+09  \n81933  9.748412e+09  \n81934  1.192759e+10  \n81935  1.255184e+10  \n\n[81936 rows x 7 columns]",
      "text/html": "<div>\n<style scoped>\n    .dataframe tbody tr th:only-of-type {\n        vertical-align: middle;\n    }\n\n    .dataframe tbody tr th {\n        vertical-align: top;\n    }\n\n    .dataframe thead th {\n        text-align: right;\n    }\n</style>\n<table border=\"1\" class=\"dataframe\">\n  <thead>\n    <tr style=\"text-align: right;\">\n      <th></th>\n      <th>index</th>\n      <th>open</th>\n      <th>close</th>\n      <th>high</th>\n      <th>low</th>\n      <th>volume</th>\n      <th>money</th>\n    </tr>\n  </thead>\n  <tbody>\n    <tr>\n      <th>0</th>\n      <td>2014-01-02 09:35:00</td>\n      <td>2112.13</td>\n      <td>2109.52</td>\n      <td>2112.13</td>\n      <td>2107.44</td>\n      <td>277763800.0</td>\n      <td>2.360719e+09</td>\n    </tr>\n    <tr>\n      <th>1</th>\n      <td>2014-01-02 09:40:00</td>\n      <td>2109.74</td>\n      <td>2108.22</td>\n      <td>2110.59</td>\n      <td>2107.20</td>\n      <td>234198000.0</td>\n      <td>2.048853e+09</td>\n    </tr>\n    <tr>\n      <th>2</th>\n      <td>2014-01-02 09:45:00</td>\n      <td>2107.97</td>\n      <td>2111.55</td>\n      <td>2112.32</td>\n      <td>2107.35</td>\n      <td>207822800.0</td>\n      <td>1.855826e+09</td>\n    </tr>\n    <tr>\n      <th>3</th>\n      <td>2014-01-02 09:50:00</td>\n      <td>2111.69</td>\n      <td>2110.72</td>\n      <td>2112.91</td>\n      <td>2110.55</td>\n      <td>194697300.0</td>\n      <td>1.790915e+09</td>\n    </tr>\n    <tr>\n      <th>4</th>\n      <td>2014-01-02 09:55:00</td>\n      <td>2110.67</td>\n      <td>2108.89</td>\n      <td>2111.14</td>\n      <td>2108.55</td>\n      <td>183548800.0</td>\n      <td>1.719280e+09</td>\n    </tr>\n    <tr>\n      <th>...</th>\n      <td>...</td>\n      <td>...</td>\n      <td>...</td>\n      <td>...</td>\n      <td>...</td>\n      <td>...</td>\n      <td>...</td>\n    </tr>\n    <tr>\n      <th>81931</th>\n      <td>2020-12-31 14:40:00</td>\n      <td>3469.69</td>\n      <td>3473.07</td>\n      <td>3473.51</td>\n      <td>3469.57</td>\n      <td>559210100.0</td>\n      <td>7.874534e+09</td>\n    </tr>\n    <tr>\n      <th>81932</th>\n      <td>2020-12-31 14:45:00</td>\n      <td>3473.14</td>\n      <td>3473.60</td>\n      <td>3474.92</td>\n      <td>3473.06</td>\n      <td>662602300.0</td>\n      <td>9.602388e+09</td>\n    </tr>\n    <tr>\n      <th>81933</th>\n      <td>2020-12-31 14:50:00</td>\n      <td>3474.02</td>\n      <td>3472.64</td>\n      <td>3474.47</td>\n      <td>3472.11</td>\n      <td>715294300.0</td>\n      <td>9.748412e+09</td>\n    </tr>\n    <tr>\n      <th>81934</th>\n      <td>2020-12-31 14:55:00</td>\n      <td>3471.99</td>\n      <td>3471.85</td>\n      <td>3472.49</td>\n      <td>3470.85</td>\n      <td>938424900.0</td>\n      <td>1.192759e+10</td>\n    </tr>\n    <tr>\n      <th>81935</th>\n      <td>2020-12-31 15:00:00</td>\n      <td>3472.19</td>\n      <td>3473.07</td>\n      <td>3473.57</td>\n      <td>3471.36</td>\n      <td>988068700.0</td>\n      <td>1.255184e+10</td>\n    </tr>\n  </tbody>\n</table>\n<p>81936 rows × 7 columns</p>\n</div>"
     },
     "execution_count": 12,
     "metadata": {},
     "output_type": "execute_result"
    }
   ],
   "source": [
    "test"
   ],
   "metadata": {
    "collapsed": false,
    "pycharm": {
     "name": "#%%\n"
    }
   }
  },
  {
   "cell_type": "code",
   "execution_count": 13,
   "outputs": [],
   "source": [
    "test.columns = ['datetime', 'open', 'close', 'high', 'low', 'volume', 'money']\n"
   ],
   "metadata": {
    "collapsed": false,
    "pycharm": {
     "name": "#%%\n"
    }
   }
  },
  {
   "cell_type": "code",
   "execution_count": 14,
   "outputs": [
    {
     "data": {
      "text/plain": "                 datetime     open    close     high      low       volume  \\\n0     2014-01-02 09:35:00  2112.13  2109.52  2112.13  2107.44  277763800.0   \n1     2014-01-02 09:40:00  2109.74  2108.22  2110.59  2107.20  234198000.0   \n2     2014-01-02 09:45:00  2107.97  2111.55  2112.32  2107.35  207822800.0   \n3     2014-01-02 09:50:00  2111.69  2110.72  2112.91  2110.55  194697300.0   \n4     2014-01-02 09:55:00  2110.67  2108.89  2111.14  2108.55  183548800.0   \n...                   ...      ...      ...      ...      ...          ...   \n81931 2020-12-31 14:40:00  3469.69  3473.07  3473.51  3469.57  559210100.0   \n81932 2020-12-31 14:45:00  3473.14  3473.60  3474.92  3473.06  662602300.0   \n81933 2020-12-31 14:50:00  3474.02  3472.64  3474.47  3472.11  715294300.0   \n81934 2020-12-31 14:55:00  3471.99  3471.85  3472.49  3470.85  938424900.0   \n81935 2020-12-31 15:00:00  3472.19  3473.07  3473.57  3471.36  988068700.0   \n\n              money  \n0      2.360719e+09  \n1      2.048853e+09  \n2      1.855826e+09  \n3      1.790915e+09  \n4      1.719280e+09  \n...             ...  \n81931  7.874534e+09  \n81932  9.602388e+09  \n81933  9.748412e+09  \n81934  1.192759e+10  \n81935  1.255184e+10  \n\n[81936 rows x 7 columns]",
      "text/html": "<div>\n<style scoped>\n    .dataframe tbody tr th:only-of-type {\n        vertical-align: middle;\n    }\n\n    .dataframe tbody tr th {\n        vertical-align: top;\n    }\n\n    .dataframe thead th {\n        text-align: right;\n    }\n</style>\n<table border=\"1\" class=\"dataframe\">\n  <thead>\n    <tr style=\"text-align: right;\">\n      <th></th>\n      <th>datetime</th>\n      <th>open</th>\n      <th>close</th>\n      <th>high</th>\n      <th>low</th>\n      <th>volume</th>\n      <th>money</th>\n    </tr>\n  </thead>\n  <tbody>\n    <tr>\n      <th>0</th>\n      <td>2014-01-02 09:35:00</td>\n      <td>2112.13</td>\n      <td>2109.52</td>\n      <td>2112.13</td>\n      <td>2107.44</td>\n      <td>277763800.0</td>\n      <td>2.360719e+09</td>\n    </tr>\n    <tr>\n      <th>1</th>\n      <td>2014-01-02 09:40:00</td>\n      <td>2109.74</td>\n      <td>2108.22</td>\n      <td>2110.59</td>\n      <td>2107.20</td>\n      <td>234198000.0</td>\n      <td>2.048853e+09</td>\n    </tr>\n    <tr>\n      <th>2</th>\n      <td>2014-01-02 09:45:00</td>\n      <td>2107.97</td>\n      <td>2111.55</td>\n      <td>2112.32</td>\n      <td>2107.35</td>\n      <td>207822800.0</td>\n      <td>1.855826e+09</td>\n    </tr>\n    <tr>\n      <th>3</th>\n      <td>2014-01-02 09:50:00</td>\n      <td>2111.69</td>\n      <td>2110.72</td>\n      <td>2112.91</td>\n      <td>2110.55</td>\n      <td>194697300.0</td>\n      <td>1.790915e+09</td>\n    </tr>\n    <tr>\n      <th>4</th>\n      <td>2014-01-02 09:55:00</td>\n      <td>2110.67</td>\n      <td>2108.89</td>\n      <td>2111.14</td>\n      <td>2108.55</td>\n      <td>183548800.0</td>\n      <td>1.719280e+09</td>\n    </tr>\n    <tr>\n      <th>...</th>\n      <td>...</td>\n      <td>...</td>\n      <td>...</td>\n      <td>...</td>\n      <td>...</td>\n      <td>...</td>\n      <td>...</td>\n    </tr>\n    <tr>\n      <th>81931</th>\n      <td>2020-12-31 14:40:00</td>\n      <td>3469.69</td>\n      <td>3473.07</td>\n      <td>3473.51</td>\n      <td>3469.57</td>\n      <td>559210100.0</td>\n      <td>7.874534e+09</td>\n    </tr>\n    <tr>\n      <th>81932</th>\n      <td>2020-12-31 14:45:00</td>\n      <td>3473.14</td>\n      <td>3473.60</td>\n      <td>3474.92</td>\n      <td>3473.06</td>\n      <td>662602300.0</td>\n      <td>9.602388e+09</td>\n    </tr>\n    <tr>\n      <th>81933</th>\n      <td>2020-12-31 14:50:00</td>\n      <td>3474.02</td>\n      <td>3472.64</td>\n      <td>3474.47</td>\n      <td>3472.11</td>\n      <td>715294300.0</td>\n      <td>9.748412e+09</td>\n    </tr>\n    <tr>\n      <th>81934</th>\n      <td>2020-12-31 14:55:00</td>\n      <td>3471.99</td>\n      <td>3471.85</td>\n      <td>3472.49</td>\n      <td>3470.85</td>\n      <td>938424900.0</td>\n      <td>1.192759e+10</td>\n    </tr>\n    <tr>\n      <th>81935</th>\n      <td>2020-12-31 15:00:00</td>\n      <td>3472.19</td>\n      <td>3473.07</td>\n      <td>3473.57</td>\n      <td>3471.36</td>\n      <td>988068700.0</td>\n      <td>1.255184e+10</td>\n    </tr>\n  </tbody>\n</table>\n<p>81936 rows × 7 columns</p>\n</div>"
     },
     "execution_count": 14,
     "metadata": {},
     "output_type": "execute_result"
    }
   ],
   "source": [
    "test\n"
   ],
   "metadata": {
    "collapsed": false,
    "pycharm": {
     "name": "#%%\n"
    }
   }
  },
  {
   "cell_type": "code",
   "execution_count": 15,
   "outputs": [
    {
     "data": {
      "text/plain": "<AxesSubplot:xlabel='datetime'>"
     },
     "execution_count": 15,
     "metadata": {},
     "output_type": "execute_result"
    },
    {
     "data": {
      "text/plain": "<Figure size 432x288 with 1 Axes>",
      "image/png": "[encoded data removed]"
     },
     "metadata": {
      "needs_background": "light"
     },
     "output_type": "display_data"
    }
   ],
   "source": [
    "test.plot(x='datetime', y='open')\n"
   ],
   "metadata": {
    "collapsed": false,
    "pycharm": {
     "name": "#%%\n"
    }
   }
  },
  {
   "cell_type": "code",
   "execution_count": 16,
   "outputs": [],
   "source": [
    "import torch\n",
    "import torch.nn as nn"
   ],
   "metadata": {
    "collapsed": false,
    "pycharm": {
     "name": "#%%\n"
    }
   }
  },
  {
   "cell_type": "code",
   "execution_count": 14,
   "outputs": [],
   "source": [
    "input_dim = 1\n",
    "hidden_dim = 32\n",
    "num_layers = 2\n",
    "output_dim = 1\n"
   ],
   "metadata": {
    "collapsed": false,
    "pycharm": {
     "name": "#%%\n"
    }
   }
  },
  {
   "cell_type": "code",
   "execution_count": 15,
   "outputs": [],
   "source": [
    "class LSTM(nn.Module):\n",
    "    def __init__(self, input_dim, hidden_dim, num_layers, output_dim):\n",
    "        super(LSTM, self).__init__()\n",
    "        # Hidden dimensions\n",
    "        self.hidden_dim = hidden_dim\n",
    "\n",
    "        # Number of hidden layers\n",
    "        self.num_layers = num_layers\n",
    "\n",
    "        # batch_first=True causes input/output tensors to be of shape\n",
    "        # (batch_dim, seq_dim, feature_dim)\n",
    "        self.lstm = nn.LSTM(input_dim, hidden_dim, num_layers, batch_first=True)\n",
    "\n",
    "        # Readout layer\n",
    "        self.fc = nn.Linear(hidden_dim, output_dim)\n",
    "\n",
    "    def forward(self, x):\n",
    "        # Initialize hidden state with zeros\n",
    "        # h0 = torch.zeros(self.num_layers, x.size(0), self.hidden_dim).requires_grad_()\n",
    "\n",
    "        # Initialize cell state\n",
    "        # c0 = torch.zeros(self.num_layers, x.size(0), self.hidden_dim).requires_grad_()\n",
    "\n",
    "        # We need to detach as we are doing truncated backpropagation through time (BPTT)\n",
    "        # If we don't, we'll backprop all the way to the start even after going through another batch\n",
    "        out, (h_n, c_n) = self.lstm(x)\n",
    "\n",
    "        # Index hidden state of last time step\n",
    "        # out.size() --> 100, 32, 100\n",
    "        # out[:, -1, :] --> 100, 100 --> just want last time step hidden states!\n",
    "        out = self.fc(out[:, -1, :])\n",
    "        # out.size() --> 100, 10\n",
    "        return out"
   ],
   "metadata": {
    "collapsed": false,
    "pycharm": {
     "name": "#%%\n"
    }
   }
  },
  {
   "cell_type": "code",
   "execution_count": 17,
   "outputs": [],
   "source": [
    "import numpy as np"
   ],
   "metadata": {
    "collapsed": false,
    "pycharm": {
     "name": "#%%\n"
    }
   }
  },
  {
   "cell_type": "code",
   "execution_count": 17,
   "outputs": [],
   "source": [
    "# Train model\n",
    "#####################\n"
   ],
   "metadata": {
    "collapsed": false,
    "pycharm": {
     "name": "#%%\n"
    }
   }
  },
  {
   "cell_type": "code",
   "execution_count": 18,
   "outputs": [
    {
     "data": {
      "text/plain": "         close\n0      2109.52\n1      2108.22\n2      2111.55\n3      2110.72\n4      2108.89\n...        ...\n81931  3473.07\n81932  3473.60\n81933  3472.64\n81934  3471.85\n81935  3473.07\n\n[81936 rows x 1 columns]",
      "text/html": "<div>\n<style scoped>\n    .dataframe tbody tr th:only-of-type {\n        vertical-align: middle;\n    }\n\n    .dataframe tbody tr th {\n        vertical-align: top;\n    }\n\n    .dataframe thead th {\n        text-align: right;\n    }\n</style>\n<table border=\"1\" class=\"dataframe\">\n  <thead>\n    <tr style=\"text-align: right;\">\n      <th></th>\n      <th>close</th>\n    </tr>\n  </thead>\n  <tbody>\n    <tr>\n      <th>0</th>\n      <td>2109.52</td>\n    </tr>\n    <tr>\n      <th>1</th>\n      <td>2108.22</td>\n    </tr>\n    <tr>\n      <th>2</th>\n      <td>2111.55</td>\n    </tr>\n    <tr>\n      <th>3</th>\n      <td>2110.72</td>\n    </tr>\n    <tr>\n      <th>4</th>\n      <td>2108.89</td>\n    </tr>\n    <tr>\n      <th>...</th>\n      <td>...</td>\n    </tr>\n    <tr>\n      <th>81931</th>\n      <td>3473.07</td>\n    </tr>\n    <tr>\n      <th>81932</th>\n      <td>3473.60</td>\n    </tr>\n    <tr>\n      <th>81933</th>\n      <td>3472.64</td>\n    </tr>\n    <tr>\n      <th>81934</th>\n      <td>3471.85</td>\n    </tr>\n    <tr>\n      <th>81935</th>\n      <td>3473.07</td>\n    </tr>\n  </tbody>\n</table>\n<p>81936 rows × 1 columns</p>\n</div>"
     },
     "execution_count": 18,
     "metadata": {},
     "output_type": "execute_result"
    }
   ],
   "source": [
    "test[['close']]"
   ],
   "metadata": {
    "collapsed": false,
    "pycharm": {
     "name": "#%%\n"
    }
   }
  },
  {
   "cell_type": "code",
   "execution_count": 18,
   "outputs": [],
   "source": [
    "# function to create train, test data given stock data and sequence length\n",
    "def load_data(stock, look_back):\n",
    "    data_raw = stock.values # convert to numpy array\n",
    "    data = []\n",
    "\n",
    "    # create all possible sequences of length look_back\n",
    "    for index in range(len(data_raw) - look_back):\n",
    "        data.append(data_raw[index: index + look_back])\n",
    "\n",
    "    data = np.array(data);\n",
    "    test_set_size = int(np.round(0.2*data.shape[0]));\n",
    "    train_set_size = data.shape[0] - (test_set_size);\n",
    "\n",
    "    x_train = data[:train_set_size,:-1,:]\n",
    "    y_train = data[:train_set_size,-1,:]\n",
    "\n",
    "    x_test = data[train_set_size:,:-1]\n",
    "    y_test = data[train_set_size:,-1,:]\n",
    "\n",
    "    return [x_train, y_train, x_test, y_test]\n",
    "\n",
    "look_back = 10 # choose sequence length\n",
    "x_train, y_train, x_test, y_test = load_data(test[['close']], look_back)\n",
    "x_train, y_train, x_test, y_test = torch.Tensor(x_train), torch.Tensor(y_train), torch.Tensor(x_test), torch.Tensor(y_test)"
   ],
   "metadata": {
    "collapsed": false,
    "pycharm": {
     "name": "#%%\n"
    }
   }
  },
  {
   "cell_type": "code",
   "execution_count": 66,
   "outputs": [
    {
     "data": {
      "text/plain": "(65541, 9, 1)"
     },
     "execution_count": 66,
     "metadata": {},
     "output_type": "execute_result"
    }
   ],
   "source": [],
   "metadata": {
    "collapsed": false,
    "pycharm": {
     "name": "#%%\n"
    }
   }
  },
  {
   "cell_type": "code",
   "execution_count": 20,
   "outputs": [],
   "source": [
    "device = torch.device('cuda' if torch.cuda.is_available() else 'cpu')"
   ],
   "metadata": {
    "collapsed": false,
    "pycharm": {
     "name": "#%%\n"
    }
   }
  },
  {
   "cell_type": "code",
   "execution_count": 21,
   "outputs": [
    {
     "data": {
      "text/plain": "device(type='cuda')"
     },
     "execution_count": 21,
     "metadata": {},
     "output_type": "execute_result"
    }
   ],
   "source": [
    "device"
   ],
   "metadata": {
    "collapsed": false,
    "pycharm": {
     "name": "#%%\n"
    }
   }
  },
  {
   "cell_type": "code",
   "execution_count": 19,
   "outputs": [],
   "source": [],
   "metadata": {
    "collapsed": false,
    "pycharm": {
     "name": "#%%\n"
    }
   }
  },
  {
   "cell_type": "code",
   "execution_count": 78,
   "outputs": [
    {
     "name": "stdout",
     "output_type": "stream",
     "text": [
      "LSTM(\n",
      "  (lstm): LSTM(1, 32, num_layers=2, batch_first=True)\n",
      "  (fc): Linear(in_features=32, out_features=1, bias=True)\n",
      ")\n",
      "10\n",
      "torch.Size([128, 1])\n",
      "torch.Size([128, 32])\n",
      "torch.Size([128])\n",
      "torch.Size([128])\n",
      "torch.Size([128, 32])\n",
      "torch.Size([128, 32])\n",
      "torch.Size([128])\n",
      "torch.Size([128])\n",
      "torch.Size([1, 32])\n",
      "torch.Size([1])\n"
     ]
    }
   ],
   "source": [
    "model = LSTM(input_dim=input_dim, hidden_dim=hidden_dim, output_dim=output_dim, num_layers=num_layers)\n",
    "model = model.to(device)\n",
    "loss_fn = torch.nn.MSELoss()\n",
    "\n",
    "optimiser = torch.optim.Adam(model.parameters(), lr=0.001)\n",
    "print(model)\n",
    "print(len(list(model.parameters())))\n",
    "for i in range(len(list(model.parameters()))):\n",
    "    print(list(model.parameters())[i].size())\n"
   ],
   "metadata": {
    "collapsed": false,
    "pycharm": {
     "name": "#%%\n"
    }
   }
  },
  {
   "cell_type": "code",
   "execution_count": 79,
   "outputs": [],
   "source": [
    "num_epochs = 10\n",
    "hist = np.zeros(num_epochs)\n",
    "\n",
    "# Number of steps to unroll\n",
    "seq_dim =look_back-1\n",
    "\n",
    "for t in range(num_epochs):\n",
    "    # Initialise hidden state\n",
    "    # Don't do this if you want your LSTM to be stateful\n",
    "    #model.hidden = model.init_hidden()\n",
    "\n",
    "    # Forward pass\n",
    "    y_train_pred = model(x_train.to(device))\n",
    "\n",
    "    loss = loss_fn(y_train_pred, y_train.to(device))\n",
    "    if t % 10 == 0 and t !=0:\n",
    "        print(\"Epoch \", t, \"MSE: \", loss.item())\n",
    "    hist[t] = loss.item()\n",
    "\n",
    "    # Zero out gradient, else they will accumulate between epochs\n",
    "    optimiser.zero_grad()\n",
    "\n",
    "    # Backward pass\n",
    "    loss.backward()\n",
    "\n",
    "    # Update parameters\n",
    "    optimiser.step()"
   ],
   "metadata": {
    "collapsed": false,
    "pycharm": {
     "name": "#%%\n"
    }
   }
  },
  {
   "cell_type": "code",
   "execution_count": 93,
   "outputs": [],
   "source": [
    "y_test_pre = model(x_test.to(device))"
   ],
   "metadata": {
    "collapsed": false,
    "pycharm": {
     "name": "#%%\n"
    }
   }
  },
  {
   "cell_type": "code",
   "execution_count": 85,
   "outputs": [],
   "source": [
    "from matplotlib import pyplot as plt"
   ],
   "metadata": {
    "collapsed": false,
    "pycharm": {
     "name": "#%%\n"
    }
   }
  },
  {
   "cell_type": "code",
   "execution_count": 96,
   "outputs": [
    {
     "ename": "TypeError",
     "evalue": "can't convert cuda:0 device type tensor to numpy. Use Tensor.cpu() to copy the tensor to host memory first.",
     "output_type": "error",
     "traceback": [
      "\u001B[0;31m---------------------------------------------------------------------------\u001B[0m",
      "\u001B[0;31mTypeError\u001B[0m                                 Traceback (most recent call last)",
      "\u001B[0;32m<ipython-input-96-7698fc125895>\u001B[0m in \u001B[0;36m<module>\u001B[0;34m\u001B[0m\n\u001B[0;32m----> 1\u001B[0;31m \u001B[0mplt\u001B[0m\u001B[0;34m.\u001B[0m\u001B[0mplot\u001B[0m\u001B[0;34m(\u001B[0m\u001B[0my_test_pre\u001B[0m\u001B[0;34m)\u001B[0m\u001B[0;34m\u001B[0m\u001B[0;34m\u001B[0m\u001B[0m\n\u001B[0m",
      "\u001B[0;32m~/anaconda3/envs/torch_py38_env/lib/python3.8/site-packages/matplotlib/pyplot.py\u001B[0m in \u001B[0;36mplot\u001B[0;34m(scalex, scaley, data, *args, **kwargs)\u001B[0m\n\u001B[1;32m   2838\u001B[0m \u001B[0;34m@\u001B[0m\u001B[0m_copy_docstring_and_deprecators\u001B[0m\u001B[0;34m(\u001B[0m\u001B[0mAxes\u001B[0m\u001B[0;34m.\u001B[0m\u001B[0mplot\u001B[0m\u001B[0;34m)\u001B[0m\u001B[0;34m\u001B[0m\u001B[0;34m\u001B[0m\u001B[0m\n\u001B[1;32m   2839\u001B[0m \u001B[0;32mdef\u001B[0m \u001B[0mplot\u001B[0m\u001B[0;34m(\u001B[0m\u001B[0;34m*\u001B[0m\u001B[0margs\u001B[0m\u001B[0;34m,\u001B[0m \u001B[0mscalex\u001B[0m\u001B[0;34m=\u001B[0m\u001B[0;32mTrue\u001B[0m\u001B[0;34m,\u001B[0m \u001B[0mscaley\u001B[0m\u001B[0;34m=\u001B[0m\u001B[0;32mTrue\u001B[0m\u001B[0;34m,\u001B[0m \u001B[0mdata\u001B[0m\u001B[0;34m=\u001B[0m\u001B[0;32mNone\u001B[0m\u001B[0;34m,\u001B[0m \u001B[0;34m**\u001B[0m\u001B[0mkwargs\u001B[0m\u001B[0;34m)\u001B[0m\u001B[0;34m:\u001B[0m\u001B[0;34m\u001B[0m\u001B[0;34m\u001B[0m\u001B[0m\n\u001B[0;32m-> 2840\u001B[0;31m     return gca().plot(\n\u001B[0m\u001B[1;32m   2841\u001B[0m         \u001B[0;34m*\u001B[0m\u001B[0margs\u001B[0m\u001B[0;34m,\u001B[0m \u001B[0mscalex\u001B[0m\u001B[0;34m=\u001B[0m\u001B[0mscalex\u001B[0m\u001B[0;34m,\u001B[0m \u001B[0mscaley\u001B[0m\u001B[0;34m=\u001B[0m\u001B[0mscaley\u001B[0m\u001B[0;34m,\u001B[0m\u001B[0;34m\u001B[0m\u001B[0;34m\u001B[0m\u001B[0m\n\u001B[1;32m   2842\u001B[0m         **({\"data\": data} if data is not None else {}), **kwargs)\n",
      "\u001B[0;32m~/anaconda3/envs/torch_py38_env/lib/python3.8/site-packages/matplotlib/axes/_axes.py\u001B[0m in \u001B[0;36mplot\u001B[0;34m(self, scalex, scaley, data, *args, **kwargs)\u001B[0m\n\u001B[1;32m   1743\u001B[0m         \u001B[0mlines\u001B[0m \u001B[0;34m=\u001B[0m \u001B[0;34m[\u001B[0m\u001B[0;34m*\u001B[0m\u001B[0mself\u001B[0m\u001B[0;34m.\u001B[0m\u001B[0m_get_lines\u001B[0m\u001B[0;34m(\u001B[0m\u001B[0;34m*\u001B[0m\u001B[0margs\u001B[0m\u001B[0;34m,\u001B[0m \u001B[0mdata\u001B[0m\u001B[0;34m=\u001B[0m\u001B[0mdata\u001B[0m\u001B[0;34m,\u001B[0m \u001B[0;34m**\u001B[0m\u001B[0mkwargs\u001B[0m\u001B[0;34m)\u001B[0m\u001B[0;34m]\u001B[0m\u001B[0;34m\u001B[0m\u001B[0;34m\u001B[0m\u001B[0m\n\u001B[1;32m   1744\u001B[0m         \u001B[0;32mfor\u001B[0m \u001B[0mline\u001B[0m \u001B[0;32min\u001B[0m \u001B[0mlines\u001B[0m\u001B[0;34m:\u001B[0m\u001B[0;34m\u001B[0m\u001B[0;34m\u001B[0m\u001B[0m\n\u001B[0;32m-> 1745\u001B[0;31m             \u001B[0mself\u001B[0m\u001B[0;34m.\u001B[0m\u001B[0madd_line\u001B[0m\u001B[0;34m(\u001B[0m\u001B[0mline\u001B[0m\u001B[0;34m)\u001B[0m\u001B[0;34m\u001B[0m\u001B[0;34m\u001B[0m\u001B[0m\n\u001B[0m\u001B[1;32m   1746\u001B[0m         \u001B[0mself\u001B[0m\u001B[0;34m.\u001B[0m\u001B[0m_request_autoscale_view\u001B[0m\u001B[0;34m(\u001B[0m\u001B[0mscalex\u001B[0m\u001B[0;34m=\u001B[0m\u001B[0mscalex\u001B[0m\u001B[0;34m,\u001B[0m \u001B[0mscaley\u001B[0m\u001B[0;34m=\u001B[0m\u001B[0mscaley\u001B[0m\u001B[0;34m)\u001B[0m\u001B[0;34m\u001B[0m\u001B[0;34m\u001B[0m\u001B[0m\n\u001B[1;32m   1747\u001B[0m         \u001B[0;32mreturn\u001B[0m \u001B[0mlines\u001B[0m\u001B[0;34m\u001B[0m\u001B[0;34m\u001B[0m\u001B[0m\n",
      "\u001B[0;32m~/anaconda3/envs/torch_py38_env/lib/python3.8/site-packages/matplotlib/axes/_base.py\u001B[0m in \u001B[0;36madd_line\u001B[0;34m(self, line)\u001B[0m\n\u001B[1;32m   1962\u001B[0m             \u001B[0mline\u001B[0m\u001B[0;34m.\u001B[0m\u001B[0mset_clip_path\u001B[0m\u001B[0;34m(\u001B[0m\u001B[0mself\u001B[0m\u001B[0;34m.\u001B[0m\u001B[0mpatch\u001B[0m\u001B[0;34m)\u001B[0m\u001B[0;34m\u001B[0m\u001B[0;34m\u001B[0m\u001B[0m\n\u001B[1;32m   1963\u001B[0m \u001B[0;34m\u001B[0m\u001B[0m\n\u001B[0;32m-> 1964\u001B[0;31m         \u001B[0mself\u001B[0m\u001B[0;34m.\u001B[0m\u001B[0m_update_line_limits\u001B[0m\u001B[0;34m(\u001B[0m\u001B[0mline\u001B[0m\u001B[0;34m)\u001B[0m\u001B[0;34m\u001B[0m\u001B[0;34m\u001B[0m\u001B[0m\n\u001B[0m\u001B[1;32m   1965\u001B[0m         \u001B[0;32mif\u001B[0m \u001B[0;32mnot\u001B[0m \u001B[0mline\u001B[0m\u001B[0;34m.\u001B[0m\u001B[0mget_label\u001B[0m\u001B[0;34m(\u001B[0m\u001B[0;34m)\u001B[0m\u001B[0;34m:\u001B[0m\u001B[0;34m\u001B[0m\u001B[0;34m\u001B[0m\u001B[0m\n\u001B[1;32m   1966\u001B[0m             \u001B[0mline\u001B[0m\u001B[0;34m.\u001B[0m\u001B[0mset_label\u001B[0m\u001B[0;34m(\u001B[0m\u001B[0;34m'_line%d'\u001B[0m \u001B[0;34m%\u001B[0m \u001B[0mlen\u001B[0m\u001B[0;34m(\u001B[0m\u001B[0mself\u001B[0m\u001B[0;34m.\u001B[0m\u001B[0mlines\u001B[0m\u001B[0;34m)\u001B[0m\u001B[0;34m)\u001B[0m\u001B[0;34m\u001B[0m\u001B[0;34m\u001B[0m\u001B[0m\n",
      "\u001B[0;32m~/anaconda3/envs/torch_py38_env/lib/python3.8/site-packages/matplotlib/axes/_base.py\u001B[0m in \u001B[0;36m_update_line_limits\u001B[0;34m(self, line)\u001B[0m\n\u001B[1;32m   1984\u001B[0m         \u001B[0mFigures\u001B[0m \u001B[0mout\u001B[0m \u001B[0mthe\u001B[0m \u001B[0mdata\u001B[0m \u001B[0mlimit\u001B[0m \u001B[0mof\u001B[0m \u001B[0mthe\u001B[0m \u001B[0mgiven\u001B[0m \u001B[0mline\u001B[0m\u001B[0;34m,\u001B[0m \u001B[0mupdating\u001B[0m \u001B[0mself\u001B[0m\u001B[0;34m.\u001B[0m\u001B[0mdataLim\u001B[0m\u001B[0;34m.\u001B[0m\u001B[0;34m\u001B[0m\u001B[0;34m\u001B[0m\u001B[0m\n\u001B[1;32m   1985\u001B[0m         \"\"\"\n\u001B[0;32m-> 1986\u001B[0;31m         \u001B[0mpath\u001B[0m \u001B[0;34m=\u001B[0m \u001B[0mline\u001B[0m\u001B[0;34m.\u001B[0m\u001B[0mget_path\u001B[0m\u001B[0;34m(\u001B[0m\u001B[0;34m)\u001B[0m\u001B[0;34m\u001B[0m\u001B[0;34m\u001B[0m\u001B[0m\n\u001B[0m\u001B[1;32m   1987\u001B[0m         \u001B[0;32mif\u001B[0m \u001B[0mpath\u001B[0m\u001B[0;34m.\u001B[0m\u001B[0mvertices\u001B[0m\u001B[0;34m.\u001B[0m\u001B[0msize\u001B[0m \u001B[0;34m==\u001B[0m \u001B[0;36m0\u001B[0m\u001B[0;34m:\u001B[0m\u001B[0;34m\u001B[0m\u001B[0;34m\u001B[0m\u001B[0m\n\u001B[1;32m   1988\u001B[0m             \u001B[0;32mreturn\u001B[0m\u001B[0;34m\u001B[0m\u001B[0;34m\u001B[0m\u001B[0m\n",
      "\u001B[0;32m~/anaconda3/envs/torch_py38_env/lib/python3.8/site-packages/matplotlib/lines.py\u001B[0m in \u001B[0;36mget_path\u001B[0;34m(self)\u001B[0m\n\u001B[1;32m   1009\u001B[0m         \"\"\"\n\u001B[1;32m   1010\u001B[0m         \u001B[0;32mif\u001B[0m \u001B[0mself\u001B[0m\u001B[0;34m.\u001B[0m\u001B[0m_invalidy\u001B[0m \u001B[0;32mor\u001B[0m \u001B[0mself\u001B[0m\u001B[0;34m.\u001B[0m\u001B[0m_invalidx\u001B[0m\u001B[0;34m:\u001B[0m\u001B[0;34m\u001B[0m\u001B[0;34m\u001B[0m\u001B[0m\n\u001B[0;32m-> 1011\u001B[0;31m             \u001B[0mself\u001B[0m\u001B[0;34m.\u001B[0m\u001B[0mrecache\u001B[0m\u001B[0;34m(\u001B[0m\u001B[0;34m)\u001B[0m\u001B[0;34m\u001B[0m\u001B[0;34m\u001B[0m\u001B[0m\n\u001B[0m\u001B[1;32m   1012\u001B[0m         \u001B[0;32mreturn\u001B[0m \u001B[0mself\u001B[0m\u001B[0;34m.\u001B[0m\u001B[0m_path\u001B[0m\u001B[0;34m\u001B[0m\u001B[0;34m\u001B[0m\u001B[0m\n\u001B[1;32m   1013\u001B[0m \u001B[0;34m\u001B[0m\u001B[0m\n",
      "\u001B[0;32m~/anaconda3/envs/torch_py38_env/lib/python3.8/site-packages/matplotlib/lines.py\u001B[0m in \u001B[0;36mrecache\u001B[0;34m(self, always)\u001B[0m\n\u001B[1;32m    656\u001B[0m         \u001B[0;32mif\u001B[0m \u001B[0malways\u001B[0m \u001B[0;32mor\u001B[0m \u001B[0mself\u001B[0m\u001B[0;34m.\u001B[0m\u001B[0m_invalidy\u001B[0m\u001B[0;34m:\u001B[0m\u001B[0;34m\u001B[0m\u001B[0;34m\u001B[0m\u001B[0m\n\u001B[1;32m    657\u001B[0m             \u001B[0myconv\u001B[0m \u001B[0;34m=\u001B[0m \u001B[0mself\u001B[0m\u001B[0;34m.\u001B[0m\u001B[0mconvert_yunits\u001B[0m\u001B[0;34m(\u001B[0m\u001B[0mself\u001B[0m\u001B[0;34m.\u001B[0m\u001B[0m_yorig\u001B[0m\u001B[0;34m)\u001B[0m\u001B[0;34m\u001B[0m\u001B[0;34m\u001B[0m\u001B[0m\n\u001B[0;32m--> 658\u001B[0;31m             \u001B[0my\u001B[0m \u001B[0;34m=\u001B[0m \u001B[0m_to_unmasked_float_array\u001B[0m\u001B[0;34m(\u001B[0m\u001B[0myconv\u001B[0m\u001B[0;34m)\u001B[0m\u001B[0;34m.\u001B[0m\u001B[0mravel\u001B[0m\u001B[0;34m(\u001B[0m\u001B[0;34m)\u001B[0m\u001B[0;34m\u001B[0m\u001B[0;34m\u001B[0m\u001B[0m\n\u001B[0m\u001B[1;32m    659\u001B[0m         \u001B[0;32melse\u001B[0m\u001B[0;34m:\u001B[0m\u001B[0;34m\u001B[0m\u001B[0;34m\u001B[0m\u001B[0m\n\u001B[1;32m    660\u001B[0m             \u001B[0my\u001B[0m \u001B[0;34m=\u001B[0m \u001B[0mself\u001B[0m\u001B[0;34m.\u001B[0m\u001B[0m_y\u001B[0m\u001B[0;34m\u001B[0m\u001B[0;34m\u001B[0m\u001B[0m\n",
      "\u001B[0;32m~/anaconda3/envs/torch_py38_env/lib/python3.8/site-packages/matplotlib/cbook/__init__.py\u001B[0m in \u001B[0;36m_to_unmasked_float_array\u001B[0;34m(x)\u001B[0m\n\u001B[1;32m   1287\u001B[0m         \u001B[0;32mreturn\u001B[0m \u001B[0mnp\u001B[0m\u001B[0;34m.\u001B[0m\u001B[0mma\u001B[0m\u001B[0;34m.\u001B[0m\u001B[0masarray\u001B[0m\u001B[0;34m(\u001B[0m\u001B[0mx\u001B[0m\u001B[0;34m,\u001B[0m \u001B[0mfloat\u001B[0m\u001B[0;34m)\u001B[0m\u001B[0;34m.\u001B[0m\u001B[0mfilled\u001B[0m\u001B[0;34m(\u001B[0m\u001B[0mnp\u001B[0m\u001B[0;34m.\u001B[0m\u001B[0mnan\u001B[0m\u001B[0;34m)\u001B[0m\u001B[0;34m\u001B[0m\u001B[0;34m\u001B[0m\u001B[0m\n\u001B[1;32m   1288\u001B[0m     \u001B[0;32melse\u001B[0m\u001B[0;34m:\u001B[0m\u001B[0;34m\u001B[0m\u001B[0;34m\u001B[0m\u001B[0m\n\u001B[0;32m-> 1289\u001B[0;31m         \u001B[0;32mreturn\u001B[0m \u001B[0mnp\u001B[0m\u001B[0;34m.\u001B[0m\u001B[0masarray\u001B[0m\u001B[0;34m(\u001B[0m\u001B[0mx\u001B[0m\u001B[0;34m,\u001B[0m \u001B[0mfloat\u001B[0m\u001B[0;34m)\u001B[0m\u001B[0;34m\u001B[0m\u001B[0;34m\u001B[0m\u001B[0m\n\u001B[0m\u001B[1;32m   1290\u001B[0m \u001B[0;34m\u001B[0m\u001B[0m\n\u001B[1;32m   1291\u001B[0m \u001B[0;34m\u001B[0m\u001B[0m\n",
      "\u001B[0;32m~/anaconda3/envs/torch_py38_env/lib/python3.8/site-packages/numpy/core/_asarray.py\u001B[0m in \u001B[0;36masarray\u001B[0;34m(a, dtype, order, like)\u001B[0m\n\u001B[1;32m    100\u001B[0m         \u001B[0;32mreturn\u001B[0m \u001B[0m_asarray_with_like\u001B[0m\u001B[0;34m(\u001B[0m\u001B[0ma\u001B[0m\u001B[0;34m,\u001B[0m \u001B[0mdtype\u001B[0m\u001B[0;34m=\u001B[0m\u001B[0mdtype\u001B[0m\u001B[0;34m,\u001B[0m \u001B[0morder\u001B[0m\u001B[0;34m=\u001B[0m\u001B[0morder\u001B[0m\u001B[0;34m,\u001B[0m \u001B[0mlike\u001B[0m\u001B[0;34m=\u001B[0m\u001B[0mlike\u001B[0m\u001B[0;34m)\u001B[0m\u001B[0;34m\u001B[0m\u001B[0;34m\u001B[0m\u001B[0m\n\u001B[1;32m    101\u001B[0m \u001B[0;34m\u001B[0m\u001B[0m\n\u001B[0;32m--> 102\u001B[0;31m     \u001B[0;32mreturn\u001B[0m \u001B[0marray\u001B[0m\u001B[0;34m(\u001B[0m\u001B[0ma\u001B[0m\u001B[0;34m,\u001B[0m \u001B[0mdtype\u001B[0m\u001B[0;34m,\u001B[0m \u001B[0mcopy\u001B[0m\u001B[0;34m=\u001B[0m\u001B[0;32mFalse\u001B[0m\u001B[0;34m,\u001B[0m \u001B[0morder\u001B[0m\u001B[0;34m=\u001B[0m\u001B[0morder\u001B[0m\u001B[0;34m)\u001B[0m\u001B[0;34m\u001B[0m\u001B[0;34m\u001B[0m\u001B[0m\n\u001B[0m\u001B[1;32m    103\u001B[0m \u001B[0;34m\u001B[0m\u001B[0m\n\u001B[1;32m    104\u001B[0m \u001B[0;34m\u001B[0m\u001B[0m\n",
      "\u001B[0;32m~/anaconda3/envs/torch_py38_env/lib/python3.8/site-packages/torch/_tensor.py\u001B[0m in \u001B[0;36m__array__\u001B[0;34m(self, dtype)\u001B[0m\n\u001B[1;32m    643\u001B[0m             \u001B[0;32mreturn\u001B[0m \u001B[0mself\u001B[0m\u001B[0;34m.\u001B[0m\u001B[0mnumpy\u001B[0m\u001B[0;34m(\u001B[0m\u001B[0;34m)\u001B[0m\u001B[0;34m\u001B[0m\u001B[0;34m\u001B[0m\u001B[0m\n\u001B[1;32m    644\u001B[0m         \u001B[0;32melse\u001B[0m\u001B[0;34m:\u001B[0m\u001B[0;34m\u001B[0m\u001B[0;34m\u001B[0m\u001B[0m\n\u001B[0;32m--> 645\u001B[0;31m             \u001B[0;32mreturn\u001B[0m \u001B[0mself\u001B[0m\u001B[0;34m.\u001B[0m\u001B[0mnumpy\u001B[0m\u001B[0;34m(\u001B[0m\u001B[0;34m)\u001B[0m\u001B[0;34m.\u001B[0m\u001B[0mastype\u001B[0m\u001B[0;34m(\u001B[0m\u001B[0mdtype\u001B[0m\u001B[0;34m,\u001B[0m \u001B[0mcopy\u001B[0m\u001B[0;34m=\u001B[0m\u001B[0;32mFalse\u001B[0m\u001B[0;34m)\u001B[0m\u001B[0;34m\u001B[0m\u001B[0;34m\u001B[0m\u001B[0m\n\u001B[0m\u001B[1;32m    646\u001B[0m \u001B[0;34m\u001B[0m\u001B[0m\n\u001B[1;32m    647\u001B[0m     \u001B[0;31m# Wrap Numpy array again in a suitable tensor when done, to support e.g.\u001B[0m\u001B[0;34m\u001B[0m\u001B[0;34m\u001B[0m\u001B[0;34m\u001B[0m\u001B[0m\n",
      "\u001B[0;31mTypeError\u001B[0m: can't convert cuda:0 device type tensor to numpy. Use Tensor.cpu() to copy the tensor to host memory first."
     ]
    },
    {
     "data": {
      "text/plain": "<Figure size 432x288 with 1 Axes>",
      "image/png": "[encoded data removed]"
     },
     "metadata": {
      "needs_background": "light"
     },
     "output_type": "display_data"
    }
   ],
   "source": [
    "plt.plot(y_test_pre)"
   ],
   "metadata": {
    "collapsed": false,
    "pycharm": {
     "name": "#%%\n"
    }
   }
  },
  {
   "cell_type": "code",
   "execution_count": null,
   "outputs": [],
   "source": [
    "input = torch.randn(65523, 59, 1)"
   ],
   "metadata": {
    "collapsed": false,
    "pycharm": {
     "name": "#%%\n"
    }
   }
  },
  {
   "cell_type": "code",
   "execution_count": 50,
   "outputs": [
    {
     "data": {
      "text/plain": "torch.Size([65544, 5, 1])"
     },
     "execution_count": 50,
     "metadata": {},
     "output_type": "execute_result"
    }
   ],
   "source": [
    "x_train.shape"
   ],
   "metadata": {
    "collapsed": false,
    "pycharm": {
     "name": "#%%\n"
    }
   }
  },
  {
   "cell_type": "code",
   "execution_count": 76,
   "outputs": [],
   "source": [
    "input_cuda = input.to(device)"
   ],
   "metadata": {
    "collapsed": false,
    "pycharm": {
     "name": "#%%\n"
    }
   }
  },
  {
   "cell_type": "code",
   "execution_count": 77,
   "outputs": [
    {
     "ename": "RuntimeError",
     "evalue": "CUDA out of memory. Tried to allocate 5.07 GiB (GPU 0; 3.95 GiB total capacity; 1.16 GiB already allocated; 1.52 GiB free; 1.18 GiB reserved in total by PyTorch)",
     "output_type": "error",
     "traceback": [
      "\u001B[0;31m---------------------------------------------------------------------------\u001B[0m",
      "\u001B[0;31mRuntimeError\u001B[0m                              Traceback (most recent call last)",
      "\u001B[0;32m<ipython-input-77-d730cc7c87b4>\u001B[0m in \u001B[0;36m<module>\u001B[0;34m\u001B[0m\n\u001B[0;32m----> 1\u001B[0;31m \u001B[0mmodel\u001B[0m\u001B[0;34m(\u001B[0m\u001B[0minput_cuda\u001B[0m\u001B[0;34m)\u001B[0m\u001B[0;34m.\u001B[0m\u001B[0mshape\u001B[0m\u001B[0;34m\u001B[0m\u001B[0;34m\u001B[0m\u001B[0m\n\u001B[0m",
      "\u001B[0;32m~/anaconda3/envs/torch_py38_env/lib/python3.8/site-packages/torch/nn/modules/module.py\u001B[0m in \u001B[0;36m_call_impl\u001B[0;34m(self, *input, **kwargs)\u001B[0m\n\u001B[1;32m   1049\u001B[0m         if not (self._backward_hooks or self._forward_hooks or self._forward_pre_hooks or _global_backward_hooks\n\u001B[1;32m   1050\u001B[0m                 or _global_forward_hooks or _global_forward_pre_hooks):\n\u001B[0;32m-> 1051\u001B[0;31m             \u001B[0;32mreturn\u001B[0m \u001B[0mforward_call\u001B[0m\u001B[0;34m(\u001B[0m\u001B[0;34m*\u001B[0m\u001B[0minput\u001B[0m\u001B[0;34m,\u001B[0m \u001B[0;34m**\u001B[0m\u001B[0mkwargs\u001B[0m\u001B[0;34m)\u001B[0m\u001B[0;34m\u001B[0m\u001B[0;34m\u001B[0m\u001B[0m\n\u001B[0m\u001B[1;32m   1052\u001B[0m         \u001B[0;31m# Do not call functions when jit is used\u001B[0m\u001B[0;34m\u001B[0m\u001B[0;34m\u001B[0m\u001B[0;34m\u001B[0m\u001B[0m\n\u001B[1;32m   1053\u001B[0m         \u001B[0mfull_backward_hooks\u001B[0m\u001B[0;34m,\u001B[0m \u001B[0mnon_full_backward_hooks\u001B[0m \u001B[0;34m=\u001B[0m \u001B[0;34m[\u001B[0m\u001B[0;34m]\u001B[0m\u001B[0;34m,\u001B[0m \u001B[0;34m[\u001B[0m\u001B[0;34m]\u001B[0m\u001B[0;34m\u001B[0m\u001B[0;34m\u001B[0m\u001B[0m\n",
      "\u001B[0;32m<ipython-input-52-4bf3df1b1278>\u001B[0m in \u001B[0;36mforward\u001B[0;34m(self, x)\u001B[0m\n\u001B[1;32m     24\u001B[0m         \u001B[0;31m# We need to detach as we are doing truncated backpropagation through time (BPTT)\u001B[0m\u001B[0;34m\u001B[0m\u001B[0;34m\u001B[0m\u001B[0;34m\u001B[0m\u001B[0m\n\u001B[1;32m     25\u001B[0m         \u001B[0;31m# If we don't, we'll backprop all the way to the start even after going through another batch\u001B[0m\u001B[0;34m\u001B[0m\u001B[0;34m\u001B[0m\u001B[0;34m\u001B[0m\u001B[0m\n\u001B[0;32m---> 26\u001B[0;31m         \u001B[0mout\u001B[0m\u001B[0;34m,\u001B[0m \u001B[0;34m(\u001B[0m\u001B[0mh_n\u001B[0m\u001B[0;34m,\u001B[0m \u001B[0mc_n\u001B[0m\u001B[0;34m)\u001B[0m \u001B[0;34m=\u001B[0m \u001B[0mself\u001B[0m\u001B[0;34m.\u001B[0m\u001B[0mlstm\u001B[0m\u001B[0;34m(\u001B[0m\u001B[0mx\u001B[0m\u001B[0;34m)\u001B[0m\u001B[0;34m\u001B[0m\u001B[0;34m\u001B[0m\u001B[0m\n\u001B[0m\u001B[1;32m     27\u001B[0m \u001B[0;34m\u001B[0m\u001B[0m\n\u001B[1;32m     28\u001B[0m         \u001B[0;31m# Index hidden state of last time step\u001B[0m\u001B[0;34m\u001B[0m\u001B[0;34m\u001B[0m\u001B[0;34m\u001B[0m\u001B[0m\n",
      "\u001B[0;32m~/anaconda3/envs/torch_py38_env/lib/python3.8/site-packages/torch/nn/modules/module.py\u001B[0m in \u001B[0;36m_call_impl\u001B[0;34m(self, *input, **kwargs)\u001B[0m\n\u001B[1;32m   1049\u001B[0m         if not (self._backward_hooks or self._forward_hooks or self._forward_pre_hooks or _global_backward_hooks\n\u001B[1;32m   1050\u001B[0m                 or _global_forward_hooks or _global_forward_pre_hooks):\n\u001B[0;32m-> 1051\u001B[0;31m             \u001B[0;32mreturn\u001B[0m \u001B[0mforward_call\u001B[0m\u001B[0;34m(\u001B[0m\u001B[0;34m*\u001B[0m\u001B[0minput\u001B[0m\u001B[0;34m,\u001B[0m \u001B[0;34m**\u001B[0m\u001B[0mkwargs\u001B[0m\u001B[0;34m)\u001B[0m\u001B[0;34m\u001B[0m\u001B[0;34m\u001B[0m\u001B[0m\n\u001B[0m\u001B[1;32m   1052\u001B[0m         \u001B[0;31m# Do not call functions when jit is used\u001B[0m\u001B[0;34m\u001B[0m\u001B[0;34m\u001B[0m\u001B[0;34m\u001B[0m\u001B[0m\n\u001B[1;32m   1053\u001B[0m         \u001B[0mfull_backward_hooks\u001B[0m\u001B[0;34m,\u001B[0m \u001B[0mnon_full_backward_hooks\u001B[0m \u001B[0;34m=\u001B[0m \u001B[0;34m[\u001B[0m\u001B[0;34m]\u001B[0m\u001B[0;34m,\u001B[0m \u001B[0;34m[\u001B[0m\u001B[0;34m]\u001B[0m\u001B[0;34m\u001B[0m\u001B[0;34m\u001B[0m\u001B[0m\n",
      "\u001B[0;32m~/anaconda3/envs/torch_py38_env/lib/python3.8/site-packages/torch/nn/modules/rnn.py\u001B[0m in \u001B[0;36mforward\u001B[0;34m(self, input, hx)\u001B[0m\n\u001B[1;32m    677\u001B[0m         \u001B[0mself\u001B[0m\u001B[0;34m.\u001B[0m\u001B[0mcheck_forward_args\u001B[0m\u001B[0;34m(\u001B[0m\u001B[0minput\u001B[0m\u001B[0;34m,\u001B[0m \u001B[0mhx\u001B[0m\u001B[0;34m,\u001B[0m \u001B[0mbatch_sizes\u001B[0m\u001B[0;34m)\u001B[0m\u001B[0;34m\u001B[0m\u001B[0;34m\u001B[0m\u001B[0m\n\u001B[1;32m    678\u001B[0m         \u001B[0;32mif\u001B[0m \u001B[0mbatch_sizes\u001B[0m \u001B[0;32mis\u001B[0m \u001B[0;32mNone\u001B[0m\u001B[0;34m:\u001B[0m\u001B[0;34m\u001B[0m\u001B[0;34m\u001B[0m\u001B[0m\n\u001B[0;32m--> 679\u001B[0;31m             result = _VF.lstm(input, hx, self._flat_weights, self.bias, self.num_layers,\n\u001B[0m\u001B[1;32m    680\u001B[0m                               self.dropout, self.training, self.bidirectional, self.batch_first)\n\u001B[1;32m    681\u001B[0m         \u001B[0;32melse\u001B[0m\u001B[0;34m:\u001B[0m\u001B[0;34m\u001B[0m\u001B[0;34m\u001B[0m\u001B[0m\n",
      "\u001B[0;31mRuntimeError\u001B[0m: CUDA out of memory. Tried to allocate 5.07 GiB (GPU 0; 3.95 GiB total capacity; 1.16 GiB already allocated; 1.52 GiB free; 1.18 GiB reserved in total by PyTorch)"
     ]
    }
   ],
   "source": [
    "model(input_cuda).shape"
   ],
   "metadata": {
    "collapsed": false,
    "pycharm": {
     "name": "#%%\n"
    }
   }
  },
  {
   "cell_type": "code",
   "execution_count": 106,
   "outputs": [],
   "source": [
    "torch.cuda.empty_cache()"
   ],
   "metadata": {
    "collapsed": false,
    "pycharm": {
     "name": "#%%\n"
    }
   }
  },
  {
   "cell_type": "code",
   "execution_count": 64,
   "outputs": [
    {
     "data": {
      "text/plain": "True"
     },
     "execution_count": 64,
     "metadata": {},
     "output_type": "execute_result"
    }
   ],
   "source": [
    "torch.cuda.is_available()"
   ],
   "metadata": {
    "collapsed": false,
    "pycharm": {
     "name": "#%%\n"
    }
   }
  },
  {
   "cell_type": "code",
   "execution_count": 22,
   "outputs": [],
   "source": [
    "lstm_model = nn.LSTM(input_size=1, hidden_size=32, num_layers=2, batch_first=True)\n"
   ],
   "metadata": {
    "collapsed": false,
    "pycharm": {
     "name": "#%%\n"
    }
   }
  },
  {
   "cell_type": "code",
   "execution_count": 23,
   "outputs": [],
   "source": [
    "lstm_model = lstm_model.to(device)\n"
   ],
   "metadata": {
    "collapsed": false,
    "pycharm": {
     "name": "#%%\n"
    }
   }
  },
  {
   "cell_type": "code",
   "execution_count": 24,
   "outputs": [],
   "source": [
    "x_train_gpu = x_train.to(device)"
   ],
   "metadata": {
    "collapsed": false,
    "pycharm": {
     "name": "#%%\n"
    }
   }
  },
  {
   "cell_type": "code",
   "execution_count": 41,
   "outputs": [
    {
     "ename": "RuntimeError",
     "evalue": "CUDA out of memory. Tried to allocate 794.00 MiB (GPU 0; 3.95 GiB total capacity; 2.47 GiB already allocated; 57.56 MiB free; 2.83 GiB reserved in total by PyTorch)",
     "output_type": "error",
     "traceback": [
      "\u001B[0;31m---------------------------------------------------------------------------\u001B[0m",
      "\u001B[0;31mRuntimeError\u001B[0m                              Traceback (most recent call last)",
      "\u001B[0;32m<ipython-input-41-fdcfee590a1a>\u001B[0m in \u001B[0;36m<module>\u001B[0;34m\u001B[0m\n\u001B[0;32m----> 1\u001B[0;31m \u001B[0moutput_lstm\u001B[0m \u001B[0;34m=\u001B[0m \u001B[0mlstm_model\u001B[0m\u001B[0;34m(\u001B[0m\u001B[0mx_train_gpu\u001B[0m\u001B[0;34m)\u001B[0m\u001B[0;34m\u001B[0m\u001B[0;34m\u001B[0m\u001B[0m\n\u001B[0m\u001B[1;32m      2\u001B[0m \u001B[0;34m\u001B[0m\u001B[0m\n",
      "\u001B[0;32m~/anaconda3/envs/torch_py38_env/lib/python3.8/site-packages/torch/nn/modules/module.py\u001B[0m in \u001B[0;36m_call_impl\u001B[0;34m(self, *input, **kwargs)\u001B[0m\n\u001B[1;32m   1049\u001B[0m         if not (self._backward_hooks or self._forward_hooks or self._forward_pre_hooks or _global_backward_hooks\n\u001B[1;32m   1050\u001B[0m                 or _global_forward_hooks or _global_forward_pre_hooks):\n\u001B[0;32m-> 1051\u001B[0;31m             \u001B[0;32mreturn\u001B[0m \u001B[0mforward_call\u001B[0m\u001B[0;34m(\u001B[0m\u001B[0;34m*\u001B[0m\u001B[0minput\u001B[0m\u001B[0;34m,\u001B[0m \u001B[0;34m**\u001B[0m\u001B[0mkwargs\u001B[0m\u001B[0;34m)\u001B[0m\u001B[0;34m\u001B[0m\u001B[0;34m\u001B[0m\u001B[0m\n\u001B[0m\u001B[1;32m   1052\u001B[0m         \u001B[0;31m# Do not call functions when jit is used\u001B[0m\u001B[0;34m\u001B[0m\u001B[0;34m\u001B[0m\u001B[0;34m\u001B[0m\u001B[0m\n\u001B[1;32m   1053\u001B[0m         \u001B[0mfull_backward_hooks\u001B[0m\u001B[0;34m,\u001B[0m \u001B[0mnon_full_backward_hooks\u001B[0m \u001B[0;34m=\u001B[0m \u001B[0;34m[\u001B[0m\u001B[0;34m]\u001B[0m\u001B[0;34m,\u001B[0m \u001B[0;34m[\u001B[0m\u001B[0;34m]\u001B[0m\u001B[0;34m\u001B[0m\u001B[0;34m\u001B[0m\u001B[0m\n",
      "\u001B[0;32m~/anaconda3/envs/torch_py38_env/lib/python3.8/site-packages/torch/nn/modules/rnn.py\u001B[0m in \u001B[0;36mforward\u001B[0;34m(self, input, hx)\u001B[0m\n\u001B[1;32m    677\u001B[0m         \u001B[0mself\u001B[0m\u001B[0;34m.\u001B[0m\u001B[0mcheck_forward_args\u001B[0m\u001B[0;34m(\u001B[0m\u001B[0minput\u001B[0m\u001B[0;34m,\u001B[0m \u001B[0mhx\u001B[0m\u001B[0;34m,\u001B[0m \u001B[0mbatch_sizes\u001B[0m\u001B[0;34m)\u001B[0m\u001B[0;34m\u001B[0m\u001B[0;34m\u001B[0m\u001B[0m\n\u001B[1;32m    678\u001B[0m         \u001B[0;32mif\u001B[0m \u001B[0mbatch_sizes\u001B[0m \u001B[0;32mis\u001B[0m \u001B[0;32mNone\u001B[0m\u001B[0;34m:\u001B[0m\u001B[0;34m\u001B[0m\u001B[0;34m\u001B[0m\u001B[0m\n\u001B[0;32m--> 679\u001B[0;31m             result = _VF.lstm(input, hx, self._flat_weights, self.bias, self.num_layers,\n\u001B[0m\u001B[1;32m    680\u001B[0m                               self.dropout, self.training, self.bidirectional, self.batch_first)\n\u001B[1;32m    681\u001B[0m         \u001B[0;32melse\u001B[0m\u001B[0;34m:\u001B[0m\u001B[0;34m\u001B[0m\u001B[0;34m\u001B[0m\u001B[0m\n",
      "\u001B[0;31mRuntimeError\u001B[0m: CUDA out of memory. Tried to allocate 794.00 MiB (GPU 0; 3.95 GiB total capacity; 2.47 GiB already allocated; 57.56 MiB free; 2.83 GiB reserved in total by PyTorch)"
     ]
    }
   ],
   "source": [
    "output_lstm = lstm_model(x_train_gpu)"
   ],
   "metadata": {
    "collapsed": false,
    "pycharm": {
     "name": "#%%\n"
    }
   }
  },
  {
   "cell_type": "code",
   "execution_count": 42,
   "outputs": [],
   "source": [
    "output_lstm_pre, (h_n, c_n) = output_lstm"
   ],
   "metadata": {
    "collapsed": false,
    "pycharm": {
     "name": "#%%\n"
    }
   }
  },
  {
   "cell_type": "code",
   "execution_count": 30,
   "outputs": [
    {
     "data": {
      "text/plain": "torch.Size([65541, 9, 32])"
     },
     "execution_count": 30,
     "metadata": {},
     "output_type": "execute_result"
    }
   ],
   "source": [
    "output_lstm_pre.shape"
   ],
   "metadata": {
    "collapsed": false,
    "pycharm": {
     "name": "#%%\n"
    }
   }
  },
  {
   "cell_type": "code",
   "execution_count": 31,
   "outputs": [],
   "source": [
    "test_fc = nn.Linear(in_features=9, out_features=1)\n"
   ],
   "metadata": {
    "collapsed": false,
    "pycharm": {
     "name": "#%%\n"
    }
   }
  },
  {
   "cell_type": "code",
   "execution_count": 32,
   "outputs": [],
   "source": [
    "test_fc = test_fc.to(device)\n"
   ],
   "metadata": {
    "collapsed": false,
    "pycharm": {
     "name": "#%%\n"
    }
   }
  },
  {
   "cell_type": "code",
   "execution_count": 39,
   "outputs": [],
   "source": [
    "output_lstm_fc_pre = test_fc(output_lstm_pre)"
   ],
   "metadata": {
    "collapsed": false,
    "pycharm": {
     "name": "#%%\n"
    }
   }
  },
  {
   "cell_type": "code",
   "execution_count": 40,
   "outputs": [
    {
     "data": {
      "text/plain": "torch.Size([65541, 9, 1])"
     },
     "execution_count": 40,
     "metadata": {},
     "output_type": "execute_result"
    }
   ],
   "source": [
    "output_lstm_fc_pre.shape"
   ],
   "metadata": {
    "collapsed": false,
    "pycharm": {
     "name": "#%%\n"
    }
   }
  },
  {
   "cell_type": "code",
   "execution_count": null,
   "outputs": [],
   "source": [],
   "metadata": {
    "collapsed": false,
    "pycharm": {
     "name": "#%%\n"
    }
   }
  }
 ],
 "metadata": {
  "kernelspec": {
   "display_name": "Python 3",
   "language": "python",
   "name": "python3"
  },
  "language_info": {
   "codemirror_mode": {
    "name": "ipython",
    "version": 2
   },
   "file_extension": ".py",
   "mimetype": "text/x-python",
   "name": "python",
   "nbconvert_exporter": "python",
   "pygments_lexer": "ipython2",
   "version": "2.7.6"
  }
 },
 "nbformat": 4,
 "nbformat_minor": 0
}