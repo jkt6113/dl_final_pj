{
 "cells": [
  {
   "cell_type": "code",
   "execution_count": 1,
   "metadata": {
    "collapsed": true
   },
   "outputs": [],
   "source": [
    "import pandas as pd"
   ]
  },
  {
   "cell_type": "code",
   "execution_count": 2,
   "metadata": {
    "pycharm": {
     "name": "#%%\n"
    }
   },
   "outputs": [],
   "source": [
    "def read_multiply_csv(filenames):\n",
    "    df_from_each_file = (pd.read_csv(f) for f in filenames)\n",
    "    concatenated_df   = pd.concat(df_from_each_file, ignore_index=True)\n",
    "    return concatenated_df"
   ]
  },
  {
   "cell_type": "code",
   "execution_count": 3,
   "metadata": {
    "pycharm": {
     "name": "#%%\n"
    }
   },
   "outputs": [],
   "source": [
    "filenames = ['./processed_data/jqdata_a_stocks_2014.csv',\n",
    "             './processed_data/jqdata_a_stocks_2015.csv',\n",
    "             './processed_data/jqdata_a_stocks_2016.csv',\n",
    "             './processed_data/jqdata_a_stocks_2017.csv',\n",
    "             './processed_data/jqdata_a_stocks_2018.csv',\n",
    "             './processed_data/jqdata_a_stocks_2019.csv']"
   ]
  },
  {
   "cell_type": "code",
   "execution_count": 4,
   "metadata": {
    "pycharm": {
     "name": "#%%\n"
    }
   },
   "outputs": [
    {
     "data": {
      "text/html": [
       "<div>\n",
       "<style scoped>\n",
       "    .dataframe tbody tr th:only-of-type {\n",
       "        vertical-align: middle;\n",
       "    }\n",
       "\n",
       "    .dataframe tbody tr th {\n",
       "        vertical-align: top;\n",
       "    }\n",
       "\n",
       "    .dataframe thead th {\n",
       "        text-align: right;\n",
       "    }\n",
       "</style>\n",
       "<table border=\"1\" class=\"dataframe\">\n",
       "  <thead>\n",
       "    <tr style=\"text-align: right;\">\n",
       "      <th></th>\n",
       "      <th>code</th>\n",
       "      <th>date</th>\n",
       "      <th>open</th>\n",
       "      <th>close</th>\n",
       "      <th>high</th>\n",
       "      <th>low</th>\n",
       "      <th>volume</th>\n",
       "      <th>money</th>\n",
       "    </tr>\n",
       "  </thead>\n",
       "  <tbody>\n",
       "    <tr>\n",
       "      <th>0</th>\n",
       "      <td>000001.XSHE</td>\n",
       "      <td>2014-01-02</td>\n",
       "      <td>770.86</td>\n",
       "      <td>777.85</td>\n",
       "      <td>781.67</td>\n",
       "      <td>766.40</td>\n",
       "      <td>7.702785e+05</td>\n",
       "      <td>596231842.0</td>\n",
       "    </tr>\n",
       "    <tr>\n",
       "      <th>1</th>\n",
       "      <td>000001.XSHE</td>\n",
       "      <td>2014-01-03</td>\n",
       "      <td>772.76</td>\n",
       "      <td>758.77</td>\n",
       "      <td>773.40</td>\n",
       "      <td>749.87</td>\n",
       "      <td>8.665079e+05</td>\n",
       "      <td>656635641.0</td>\n",
       "    </tr>\n",
       "    <tr>\n",
       "      <th>2</th>\n",
       "      <td>000001.XSHE</td>\n",
       "      <td>2014-01-06</td>\n",
       "      <td>756.23</td>\n",
       "      <td>742.24</td>\n",
       "      <td>760.68</td>\n",
       "      <td>732.06</td>\n",
       "      <td>9.152453e+05</td>\n",
       "      <td>679294489.0</td>\n",
       "    </tr>\n",
       "    <tr>\n",
       "      <th>3</th>\n",
       "      <td>000001.XSHE</td>\n",
       "      <td>2014-01-07</td>\n",
       "      <td>733.33</td>\n",
       "      <td>739.69</td>\n",
       "      <td>747.96</td>\n",
       "      <td>732.70</td>\n",
       "      <td>5.320707e+05</td>\n",
       "      <td>393977473.0</td>\n",
       "    </tr>\n",
       "    <tr>\n",
       "      <th>4</th>\n",
       "      <td>000001.XSHE</td>\n",
       "      <td>2014-01-08</td>\n",
       "      <td>740.33</td>\n",
       "      <td>747.96</td>\n",
       "      <td>759.41</td>\n",
       "      <td>733.33</td>\n",
       "      <td>7.197379e+05</td>\n",
       "      <td>538436298.0</td>\n",
       "    </tr>\n",
       "    <tr>\n",
       "      <th>...</th>\n",
       "      <td>...</td>\n",
       "      <td>...</td>\n",
       "      <td>...</td>\n",
       "      <td>...</td>\n",
       "      <td>...</td>\n",
       "      <td>...</td>\n",
       "      <td>...</td>\n",
       "      <td>...</td>\n",
       "    </tr>\n",
       "    <tr>\n",
       "      <th>4229470</th>\n",
       "      <td>688399.XSHG</td>\n",
       "      <td>2019-12-25</td>\n",
       "      <td>58.89</td>\n",
       "      <td>58.86</td>\n",
       "      <td>59.30</td>\n",
       "      <td>58.55</td>\n",
       "      <td>1.458100e+06</td>\n",
       "      <td>85929383.0</td>\n",
       "    </tr>\n",
       "    <tr>\n",
       "      <th>4229471</th>\n",
       "      <td>688399.XSHG</td>\n",
       "      <td>2019-12-26</td>\n",
       "      <td>59.02</td>\n",
       "      <td>59.40</td>\n",
       "      <td>60.25</td>\n",
       "      <td>58.88</td>\n",
       "      <td>1.694700e+06</td>\n",
       "      <td>100957027.0</td>\n",
       "    </tr>\n",
       "    <tr>\n",
       "      <th>4229472</th>\n",
       "      <td>688399.XSHG</td>\n",
       "      <td>2019-12-27</td>\n",
       "      <td>59.99</td>\n",
       "      <td>56.98</td>\n",
       "      <td>59.99</td>\n",
       "      <td>56.98</td>\n",
       "      <td>2.434100e+06</td>\n",
       "      <td>142290976.0</td>\n",
       "    </tr>\n",
       "    <tr>\n",
       "      <th>4229473</th>\n",
       "      <td>688399.XSHG</td>\n",
       "      <td>2019-12-30</td>\n",
       "      <td>56.20</td>\n",
       "      <td>56.38</td>\n",
       "      <td>56.60</td>\n",
       "      <td>55.55</td>\n",
       "      <td>1.224300e+06</td>\n",
       "      <td>68675530.0</td>\n",
       "    </tr>\n",
       "    <tr>\n",
       "      <th>4229474</th>\n",
       "      <td>688399.XSHG</td>\n",
       "      <td>2019-12-31</td>\n",
       "      <td>56.40</td>\n",
       "      <td>57.90</td>\n",
       "      <td>59.15</td>\n",
       "      <td>56.38</td>\n",
       "      <td>1.853900e+06</td>\n",
       "      <td>107580638.0</td>\n",
       "    </tr>\n",
       "  </tbody>\n",
       "</table>\n",
       "<p>4229475 rows × 8 columns</p>\n",
       "</div>"
      ],
      "text/plain": [
       "                code        date    open   close    high     low  \\\n",
       "0        000001.XSHE  2014-01-02  770.86  777.85  781.67  766.40   \n",
       "1        000001.XSHE  2014-01-03  772.76  758.77  773.40  749.87   \n",
       "2        000001.XSHE  2014-01-06  756.23  742.24  760.68  732.06   \n",
       "3        000001.XSHE  2014-01-07  733.33  739.69  747.96  732.70   \n",
       "4        000001.XSHE  2014-01-08  740.33  747.96  759.41  733.33   \n",
       "...              ...         ...     ...     ...     ...     ...   \n",
       "4229470  688399.XSHG  2019-12-25   58.89   58.86   59.30   58.55   \n",
       "4229471  688399.XSHG  2019-12-26   59.02   59.40   60.25   58.88   \n",
       "4229472  688399.XSHG  2019-12-27   59.99   56.98   59.99   56.98   \n",
       "4229473  688399.XSHG  2019-12-30   56.20   56.38   56.60   55.55   \n",
       "4229474  688399.XSHG  2019-12-31   56.40   57.90   59.15   56.38   \n",
       "\n",
       "               volume        money  \n",
       "0        7.702785e+05  596231842.0  \n",
       "1        8.665079e+05  656635641.0  \n",
       "2        9.152453e+05  679294489.0  \n",
       "3        5.320707e+05  393977473.0  \n",
       "4        7.197379e+05  538436298.0  \n",
       "...               ...          ...  \n",
       "4229470  1.458100e+06   85929383.0  \n",
       "4229471  1.694700e+06  100957027.0  \n",
       "4229472  2.434100e+06  142290976.0  \n",
       "4229473  1.224300e+06   68675530.0  \n",
       "4229474  1.853900e+06  107580638.0  \n",
       "\n",
       "[4229475 rows x 8 columns]"
      ]
     },
     "execution_count": 4,
     "metadata": {},
     "output_type": "execute_result"
    }
   ],
   "source": [
    "train_df = read_multiply_csv(filenames)\n",
    "train_df"
   ]
  },
  {
   "cell_type": "code",
   "execution_count": 5,
   "metadata": {
    "pycharm": {
     "name": "#%%\n"
    }
   },
   "outputs": [
    {
     "data": {
      "text/plain": [
       "False"
      ]
     },
     "execution_count": 5,
     "metadata": {},
     "output_type": "execute_result"
    }
   ],
   "source": [
    "train_df.isnull().values.any()"
   ]
  },
  {
   "cell_type": "code",
   "execution_count": 6,
   "metadata": {
    "pycharm": {
     "name": "#%%\n"
    }
   },
   "outputs": [
    {
     "data": {
      "text/html": [
       "<div>\n",
       "<style scoped>\n",
       "    .dataframe tbody tr th:only-of-type {\n",
       "        vertical-align: middle;\n",
       "    }\n",
       "\n",
       "    .dataframe tbody tr th {\n",
       "        vertical-align: top;\n",
       "    }\n",
       "\n",
       "    .dataframe thead th {\n",
       "        text-align: right;\n",
       "    }\n",
       "</style>\n",
       "<table border=\"1\" class=\"dataframe\">\n",
       "  <thead>\n",
       "    <tr style=\"text-align: right;\">\n",
       "      <th></th>\n",
       "      <th>code</th>\n",
       "      <th>date</th>\n",
       "      <th>open</th>\n",
       "      <th>close</th>\n",
       "      <th>high</th>\n",
       "      <th>low</th>\n",
       "      <th>volume</th>\n",
       "      <th>money</th>\n",
       "    </tr>\n",
       "  </thead>\n",
       "  <tbody>\n",
       "    <tr>\n",
       "      <th>0</th>\n",
       "      <td>000001.XSHE</td>\n",
       "      <td>2014-01-02</td>\n",
       "      <td>770.86</td>\n",
       "      <td>777.85</td>\n",
       "      <td>781.67</td>\n",
       "      <td>766.40</td>\n",
       "      <td>770278.527994</td>\n",
       "      <td>5.962318e+08</td>\n",
       "    </tr>\n",
       "    <tr>\n",
       "      <th>1</th>\n",
       "      <td>000001.XSHE</td>\n",
       "      <td>2014-01-03</td>\n",
       "      <td>772.76</td>\n",
       "      <td>758.77</td>\n",
       "      <td>773.40</td>\n",
       "      <td>749.87</td>\n",
       "      <td>866507.894355</td>\n",
       "      <td>6.566356e+08</td>\n",
       "    </tr>\n",
       "    <tr>\n",
       "      <th>2</th>\n",
       "      <td>000001.XSHE</td>\n",
       "      <td>2014-01-06</td>\n",
       "      <td>756.23</td>\n",
       "      <td>742.24</td>\n",
       "      <td>760.68</td>\n",
       "      <td>732.06</td>\n",
       "      <td>915245.346519</td>\n",
       "      <td>6.792945e+08</td>\n",
       "    </tr>\n",
       "    <tr>\n",
       "      <th>3</th>\n",
       "      <td>000001.XSHE</td>\n",
       "      <td>2014-01-07</td>\n",
       "      <td>733.33</td>\n",
       "      <td>739.69</td>\n",
       "      <td>747.96</td>\n",
       "      <td>732.70</td>\n",
       "      <td>532070.652571</td>\n",
       "      <td>3.939775e+08</td>\n",
       "    </tr>\n",
       "    <tr>\n",
       "      <th>4</th>\n",
       "      <td>000001.XSHE</td>\n",
       "      <td>2014-01-08</td>\n",
       "      <td>740.33</td>\n",
       "      <td>747.96</td>\n",
       "      <td>759.41</td>\n",
       "      <td>733.33</td>\n",
       "      <td>719737.911118</td>\n",
       "      <td>5.384363e+08</td>\n",
       "    </tr>\n",
       "    <tr>\n",
       "      <th>...</th>\n",
       "      <td>...</td>\n",
       "      <td>...</td>\n",
       "      <td>...</td>\n",
       "      <td>...</td>\n",
       "      <td>...</td>\n",
       "      <td>...</td>\n",
       "      <td>...</td>\n",
       "      <td>...</td>\n",
       "    </tr>\n",
       "    <tr>\n",
       "      <th>3344626</th>\n",
       "      <td>000001.XSHE</td>\n",
       "      <td>2019-12-25</td>\n",
       "      <td>1953.04</td>\n",
       "      <td>1935.23</td>\n",
       "      <td>1966.10</td>\n",
       "      <td>1928.10</td>\n",
       "      <td>349475.948595</td>\n",
       "      <td>6.796646e+08</td>\n",
       "    </tr>\n",
       "    <tr>\n",
       "      <th>3344627</th>\n",
       "      <td>000001.XSHE</td>\n",
       "      <td>2019-12-26</td>\n",
       "      <td>1939.98</td>\n",
       "      <td>1955.41</td>\n",
       "      <td>1956.60</td>\n",
       "      <td>1937.60</td>\n",
       "      <td>313354.592643</td>\n",
       "      <td>6.103817e+08</td>\n",
       "    </tr>\n",
       "    <tr>\n",
       "      <th>3344628</th>\n",
       "      <td>000001.XSHE</td>\n",
       "      <td>2019-12-27</td>\n",
       "      <td>1962.53</td>\n",
       "      <td>1974.41</td>\n",
       "      <td>2010.03</td>\n",
       "      <td>1951.85</td>\n",
       "      <td>878136.873800</td>\n",
       "      <td>1.741473e+09</td>\n",
       "    </tr>\n",
       "    <tr>\n",
       "      <th>3344629</th>\n",
       "      <td>000001.XSHE</td>\n",
       "      <td>2019-12-30</td>\n",
       "      <td>1954.22</td>\n",
       "      <td>1967.28</td>\n",
       "      <td>1974.41</td>\n",
       "      <td>1912.67</td>\n",
       "      <td>822880.309869</td>\n",
       "      <td>1.603153e+09</td>\n",
       "    </tr>\n",
       "    <tr>\n",
       "      <th>3344630</th>\n",
       "      <td>000001.XSHE</td>\n",
       "      <td>2019-12-31</td>\n",
       "      <td>1967.28</td>\n",
       "      <td>1953.04</td>\n",
       "      <td>1967.28</td>\n",
       "      <td>1936.42</td>\n",
       "      <td>593333.367468</td>\n",
       "      <td>1.154704e+09</td>\n",
       "    </tr>\n",
       "  </tbody>\n",
       "</table>\n",
       "<p>1463 rows × 8 columns</p>\n",
       "</div>"
      ],
      "text/plain": [
       "                code        date     open    close     high      low  \\\n",
       "0        000001.XSHE  2014-01-02   770.86   777.85   781.67   766.40   \n",
       "1        000001.XSHE  2014-01-03   772.76   758.77   773.40   749.87   \n",
       "2        000001.XSHE  2014-01-06   756.23   742.24   760.68   732.06   \n",
       "3        000001.XSHE  2014-01-07   733.33   739.69   747.96   732.70   \n",
       "4        000001.XSHE  2014-01-08   740.33   747.96   759.41   733.33   \n",
       "...              ...         ...      ...      ...      ...      ...   \n",
       "3344626  000001.XSHE  2019-12-25  1953.04  1935.23  1966.10  1928.10   \n",
       "3344627  000001.XSHE  2019-12-26  1939.98  1955.41  1956.60  1937.60   \n",
       "3344628  000001.XSHE  2019-12-27  1962.53  1974.41  2010.03  1951.85   \n",
       "3344629  000001.XSHE  2019-12-30  1954.22  1967.28  1974.41  1912.67   \n",
       "3344630  000001.XSHE  2019-12-31  1967.28  1953.04  1967.28  1936.42   \n",
       "\n",
       "                volume         money  \n",
       "0        770278.527994  5.962318e+08  \n",
       "1        866507.894355  6.566356e+08  \n",
       "2        915245.346519  6.792945e+08  \n",
       "3        532070.652571  3.939775e+08  \n",
       "4        719737.911118  5.384363e+08  \n",
       "...                ...           ...  \n",
       "3344626  349475.948595  6.796646e+08  \n",
       "3344627  313354.592643  6.103817e+08  \n",
       "3344628  878136.873800  1.741473e+09  \n",
       "3344629  822880.309869  1.603153e+09  \n",
       "3344630  593333.367468  1.154704e+09  \n",
       "\n",
       "[1463 rows x 8 columns]"
      ]
     },
     "execution_count": 6,
     "metadata": {},
     "output_type": "execute_result"
    }
   ],
   "source": [
    "train_df[train_df['code'] == \"000001.XSHE\"]\n"
   ]
  },
  {
   "cell_type": "code",
   "execution_count": 7,
   "metadata": {
    "pycharm": {
     "name": "#%%\n"
    }
   },
   "outputs": [],
   "source": [
    "train_000001_df = train_df[train_df['code'] == \"000001.XSHE\"]"
   ]
  },
  {
   "cell_type": "code",
   "execution_count": 8,
   "metadata": {
    "pycharm": {
     "name": "#%%\n"
    }
   },
   "outputs": [
    {
     "data": {
      "text/plain": [
       "<AxesSubplot:xlabel='date'>"
      ]
     },
     "execution_count": 8,
     "metadata": {},
     "output_type": "execute_result"
    },
    {
     "data": {
      "image/png": "[encoded data removed]",
      "text/plain": [
       "<Figure size 432x288 with 1 Axes>"
      ]
     },
     "metadata": {
      "needs_background": "light"
     },
     "output_type": "display_data"
    }
   ],
   "source": [
    "train_000001_df.plot(x=\"date\", y=\"close\")"
   ]
  },
  {
   "cell_type": "code",
   "execution_count": 9,
   "metadata": {
    "pycharm": {
     "name": "#%%\n"
    }
   },
   "outputs": [],
   "source": [
    "test_df = pd.read_csv(f'./processed_data/jqdata_a_stocks_2020.csv')"
   ]
  },
  {
   "cell_type": "code",
   "execution_count": 10,
   "metadata": {
    "pycharm": {
     "name": "#%%\n"
    }
   },
   "outputs": [
    {
     "data": {
      "text/html": [
       "<div>\n",
       "<style scoped>\n",
       "    .dataframe tbody tr th:only-of-type {\n",
       "        vertical-align: middle;\n",
       "    }\n",
       "\n",
       "    .dataframe tbody tr th {\n",
       "        vertical-align: top;\n",
       "    }\n",
       "\n",
       "    .dataframe thead th {\n",
       "        text-align: right;\n",
       "    }\n",
       "</style>\n",
       "<table border=\"1\" class=\"dataframe\">\n",
       "  <thead>\n",
       "    <tr style=\"text-align: right;\">\n",
       "      <th></th>\n",
       "      <th>code</th>\n",
       "      <th>date</th>\n",
       "      <th>open</th>\n",
       "      <th>close</th>\n",
       "      <th>high</th>\n",
       "      <th>low</th>\n",
       "      <th>volume</th>\n",
       "      <th>money</th>\n",
       "    </tr>\n",
       "  </thead>\n",
       "  <tbody>\n",
       "    <tr>\n",
       "      <th>0</th>\n",
       "      <td>000001.XSHE</td>\n",
       "      <td>2020-01-02</td>\n",
       "      <td>1976.78</td>\n",
       "      <td>2002.90</td>\n",
       "      <td>2012.40</td>\n",
       "      <td>1966.10</td>\n",
       "      <td>1.288881e+06</td>\n",
       "      <td>2.571196e+09</td>\n",
       "    </tr>\n",
       "    <tr>\n",
       "      <th>1</th>\n",
       "      <td>000001.XSHE</td>\n",
       "      <td>2020-01-03</td>\n",
       "      <td>2011.21</td>\n",
       "      <td>2039.71</td>\n",
       "      <td>2055.14</td>\n",
       "      <td>2010.03</td>\n",
       "      <td>9.401458e+05</td>\n",
       "      <td>1.914495e+09</td>\n",
       "    </tr>\n",
       "    <tr>\n",
       "      <th>2</th>\n",
       "      <td>000001.XSHE</td>\n",
       "      <td>2020-01-06</td>\n",
       "      <td>2019.52</td>\n",
       "      <td>2026.65</td>\n",
       "      <td>2058.70</td>\n",
       "      <td>2007.65</td>\n",
       "      <td>7.261166e+05</td>\n",
       "      <td>1.477930e+09</td>\n",
       "    </tr>\n",
       "    <tr>\n",
       "      <th>3</th>\n",
       "      <td>000001.XSHE</td>\n",
       "      <td>2020-01-07</td>\n",
       "      <td>2033.77</td>\n",
       "      <td>2036.14</td>\n",
       "      <td>2051.58</td>\n",
       "      <td>2012.40</td>\n",
       "      <td>6.136928e+05</td>\n",
       "      <td>1.247047e+09</td>\n",
       "    </tr>\n",
       "    <tr>\n",
       "      <th>4</th>\n",
       "      <td>000001.XSHE</td>\n",
       "      <td>2020-01-08</td>\n",
       "      <td>2018.34</td>\n",
       "      <td>1977.97</td>\n",
       "      <td>2024.27</td>\n",
       "      <td>1974.41</td>\n",
       "      <td>7.141049e+05</td>\n",
       "      <td>1.423609e+09</td>\n",
       "    </tr>\n",
       "    <tr>\n",
       "      <th>...</th>\n",
       "      <td>...</td>\n",
       "      <td>...</td>\n",
       "      <td>...</td>\n",
       "      <td>...</td>\n",
       "      <td>...</td>\n",
       "      <td>...</td>\n",
       "      <td>...</td>\n",
       "      <td>...</td>\n",
       "    </tr>\n",
       "    <tr>\n",
       "      <th>237</th>\n",
       "      <td>000001.XSHE</td>\n",
       "      <td>2020-12-24</td>\n",
       "      <td>2191.97</td>\n",
       "      <td>2205.25</td>\n",
       "      <td>2231.82</td>\n",
       "      <td>2181.10</td>\n",
       "      <td>5.240978e+05</td>\n",
       "      <td>1.155767e+09</td>\n",
       "    </tr>\n",
       "    <tr>\n",
       "      <th>238</th>\n",
       "      <td>000001.XSHE</td>\n",
       "      <td>2020-12-25</td>\n",
       "      <td>2205.25</td>\n",
       "      <td>2178.68</td>\n",
       "      <td>2205.25</td>\n",
       "      <td>2150.90</td>\n",
       "      <td>4.778354e+05</td>\n",
       "      <td>1.038128e+09</td>\n",
       "    </tr>\n",
       "    <tr>\n",
       "      <th>239</th>\n",
       "      <td>000001.XSHE</td>\n",
       "      <td>2020-12-28</td>\n",
       "      <td>2176.27</td>\n",
       "      <td>2276.50</td>\n",
       "      <td>2277.71</td>\n",
       "      <td>2170.23</td>\n",
       "      <td>1.051870e+06</td>\n",
       "      <td>2.352947e+09</td>\n",
       "    </tr>\n",
       "    <tr>\n",
       "      <th>240</th>\n",
       "      <td>000001.XSHE</td>\n",
       "      <td>2020-12-29</td>\n",
       "      <td>2278.92</td>\n",
       "      <td>2315.15</td>\n",
       "      <td>2329.64</td>\n",
       "      <td>2259.60</td>\n",
       "      <td>7.974626e+05</td>\n",
       "      <td>1.837947e+09</td>\n",
       "    </tr>\n",
       "    <tr>\n",
       "      <th>241</th>\n",
       "      <td>000001.XSHE</td>\n",
       "      <td>2020-12-30</td>\n",
       "      <td>2294.62</td>\n",
       "      <td>2318.77</td>\n",
       "      <td>2318.77</td>\n",
       "      <td>2260.80</td>\n",
       "      <td>8.102193e+05</td>\n",
       "      <td>1.854083e+09</td>\n",
       "    </tr>\n",
       "  </tbody>\n",
       "</table>\n",
       "<p>242 rows × 8 columns</p>\n",
       "</div>"
      ],
      "text/plain": [
       "            code        date     open    close     high      low  \\\n",
       "0    000001.XSHE  2020-01-02  1976.78  2002.90  2012.40  1966.10   \n",
       "1    000001.XSHE  2020-01-03  2011.21  2039.71  2055.14  2010.03   \n",
       "2    000001.XSHE  2020-01-06  2019.52  2026.65  2058.70  2007.65   \n",
       "3    000001.XSHE  2020-01-07  2033.77  2036.14  2051.58  2012.40   \n",
       "4    000001.XSHE  2020-01-08  2018.34  1977.97  2024.27  1974.41   \n",
       "..           ...         ...      ...      ...      ...      ...   \n",
       "237  000001.XSHE  2020-12-24  2191.97  2205.25  2231.82  2181.10   \n",
       "238  000001.XSHE  2020-12-25  2205.25  2178.68  2205.25  2150.90   \n",
       "239  000001.XSHE  2020-12-28  2176.27  2276.50  2277.71  2170.23   \n",
       "240  000001.XSHE  2020-12-29  2278.92  2315.15  2329.64  2259.60   \n",
       "241  000001.XSHE  2020-12-30  2294.62  2318.77  2318.77  2260.80   \n",
       "\n",
       "           volume         money  \n",
       "0    1.288881e+06  2.571196e+09  \n",
       "1    9.401458e+05  1.914495e+09  \n",
       "2    7.261166e+05  1.477930e+09  \n",
       "3    6.136928e+05  1.247047e+09  \n",
       "4    7.141049e+05  1.423609e+09  \n",
       "..            ...           ...  \n",
       "237  5.240978e+05  1.155767e+09  \n",
       "238  4.778354e+05  1.038128e+09  \n",
       "239  1.051870e+06  2.352947e+09  \n",
       "240  7.974626e+05  1.837947e+09  \n",
       "241  8.102193e+05  1.854083e+09  \n",
       "\n",
       "[242 rows x 8 columns]"
      ]
     },
     "execution_count": 10,
     "metadata": {},
     "output_type": "execute_result"
    }
   ],
   "source": [
    "test_df[test_df[\"code\"] == \"000001.XSHE\"]"
   ]
  },
  {
   "cell_type": "code",
   "execution_count": 11,
   "metadata": {
    "pycharm": {
     "name": "#%%\n"
    }
   },
   "outputs": [],
   "source": [
    "test_000001_df = test_df[test_df[\"code\"] == \"000001.XSHE\"]"
   ]
  },
  {
   "cell_type": "code",
   "execution_count": 12,
   "metadata": {
    "pycharm": {
     "name": "#%%\n"
    }
   },
   "outputs": [
    {
     "data": {
      "text/plain": [
       "<AxesSubplot:xlabel='date'>"
      ]
     },
     "execution_count": 12,
     "metadata": {},
     "output_type": "execute_result"
    },
    {
     "data": {
      "image/png": "[encoded data removed]",
      "text/plain": [
       "<Figure size 432x288 with 1 Axes>"
      ]
     },
     "metadata": {
      "needs_background": "light"
     },
     "output_type": "display_data"
    }
   ],
   "source": [
    "test_000001_df.plot(x=\"date\", y=\"close\")\n"
   ]
  },
  {
   "cell_type": "code",
   "execution_count": 13,
   "metadata": {
    "pycharm": {
     "name": "#%%\n"
    }
   },
   "outputs": [],
   "source": [
    "from sklearn.preprocessing import MinMaxScaler"
   ]
  },
  {
   "cell_type": "code",
   "execution_count": 14,
   "metadata": {
    "pycharm": {
     "name": "#%%\n"
    }
   },
   "outputs": [],
   "source": [
    "min_max_scaler = MinMaxScaler()"
   ]
  },
  {
   "cell_type": "code",
   "execution_count": 15,
   "metadata": {
    "pycharm": {
     "name": "#%%\n"
    }
   },
   "outputs": [],
   "source": [
    "train_000001_4col_df = train_000001_df[[\"open\", \"close\", \"high\", \"low\"]]"
   ]
  },
  {
   "cell_type": "code",
   "execution_count": 16,
   "metadata": {
    "pycharm": {
     "name": "#%%\n"
    }
   },
   "outputs": [],
   "source": [
    "train_000001_4col_df = min_max_scaler.fit_transform(train_000001_4col_df)"
   ]
  },
  {
   "cell_type": "code",
   "execution_count": 17,
   "metadata": {
    "pycharm": {
     "name": "#%%\n"
    }
   },
   "outputs": [],
   "source": [
    "from matplotlib import pyplot as plt"
   ]
  },
  {
   "cell_type": "code",
   "execution_count": 18,
   "metadata": {
    "pycharm": {
     "name": "#%%\n"
    }
   },
   "outputs": [
    {
     "data": {
      "text/plain": [
       "array([[0.09255855, 0.09662073, 0.08904119, 0.0932948 ],\n",
       "       [0.09390728, 0.08301238, 0.0832811 , 0.08123157],\n",
       "       [0.08217331, 0.07122275, 0.07442155, 0.06823423],\n",
       "       ...,\n",
       "       [0.9384765 , 0.95003851, 0.9446    , 0.95840996],\n",
       "       [0.93257757, 0.94495321, 0.91979049, 0.92981726],\n",
       "       [0.94184833, 0.93479687, 0.91482441, 0.94714949]])"
      ]
     },
     "execution_count": 18,
     "metadata": {},
     "output_type": "execute_result"
    }
   ],
   "source": [
    "train_000001_4col_df"
   ]
  },
  {
   "cell_type": "code",
   "execution_count": 19,
   "metadata": {
    "pycharm": {
     "name": "#%%\n"
    }
   },
   "outputs": [],
   "source": [
    "test_000001_4_col_df = test_000001_df[[\"open\", \"close\", \"high\", \"low\"]]\n",
    "test_000001_4_col_df = min_max_scaler.fit_transform(test_000001_4_col_df)"
   ]
  },
  {
   "cell_type": "code",
   "execution_count": 20,
   "metadata": {
    "pycharm": {
     "name": "#%%\n"
    }
   },
   "outputs": [
    {
     "data": {
      "text/plain": [
       "[<matplotlib.lines.Line2D at 0x7f2e21573550>]"
      ]
     },
     "execution_count": 20,
     "metadata": {},
     "output_type": "execute_result"
    },
    {
     "data": {
      "image/png": "[encoded data removed]",
      "text/plain": [
       "<Figure size 432x288 with 1 Axes>"
      ]
     },
     "metadata": {
      "needs_background": "light"
     },
     "output_type": "display_data"
    }
   ],
   "source": [
    "plt.plot(test_000001_4_col_df[:,1])"
   ]
  },
  {
   "cell_type": "code",
   "execution_count": 21,
   "metadata": {
    "pycharm": {
     "name": "#%%\n"
    }
   },
   "outputs": [
    {
     "data": {
      "text/plain": [
       "(1463, 4)"
      ]
     },
     "execution_count": 21,
     "metadata": {},
     "output_type": "execute_result"
    }
   ],
   "source": [
    "train_000001_4col_df.shape\n"
   ]
  },
  {
   "cell_type": "code",
   "execution_count": 22,
   "metadata": {
    "pycharm": {
     "name": "#%%\n"
    }
   },
   "outputs": [],
   "source": [
    "# function to create train, test data given stock data and sequence length\n",
    "def load_data(stock_df, look_back):\n",
    "    data_raw = stock_df\n",
    "    data = []\n",
    "\n",
    "    # create all possible sequences of length look_back\n",
    "    for index in range(len(data_raw) - look_back):\n",
    "        data.append(data_raw[index: index + look_back])\n",
    "\n",
    "    data = np.array(data);\n",
    "\n",
    "    x = data[:,:-1, :]\n",
    "    y = data[:,-1, 1]\n",
    "    y = np.expand_dims(y, axis=1)\n",
    "\n",
    "\n",
    "\n",
    "    return [x, y]"
   ]
  },
  {
   "cell_type": "code",
   "execution_count": 23,
   "metadata": {
    "pycharm": {
     "name": "#%%\n"
    }
   },
   "outputs": [],
   "source": [
    "import numpy as np"
   ]
  },
  {
   "cell_type": "code",
   "execution_count": 24,
   "metadata": {
    "pycharm": {
     "name": "#%%\n"
    }
   },
   "outputs": [
    {
     "data": {
      "text/plain": [
       "array([[0.09255855, 0.09662073, 0.08904119, 0.0932948 ],\n",
       "       [0.09390728, 0.08301238, 0.0832811 , 0.08123157],\n",
       "       [0.08217331, 0.07122275, 0.07442155, 0.06823423],\n",
       "       [0.06591753, 0.06940403, 0.06556201, 0.06870129],\n",
       "       [0.07088654, 0.07530241, 0.07353699, 0.06916105],\n",
       "       [0.0731439 , 0.07802693, 0.07575188, 0.07472925],\n",
       "       [0.07720429, 0.07802693, 0.07397579, 0.07519631],\n",
       "       [0.07810581, 0.06804177, 0.07220667, 0.06730741],\n",
       "       [0.06772767, 0.07349081, 0.06600777, 0.06591354],\n",
       "       [0.07359111, 0.07122275, 0.06467745, 0.07055492],\n",
       "       [0.07178806, 0.07212855, 0.06733113, 0.07148174],\n",
       "       [0.06998502, 0.06259985, 0.06024768, 0.06544648],\n",
       "       [0.06366018, 0.05443341, 0.05315726, 0.0561637 ],\n",
       "       [0.05643381, 0.05715794, 0.05670247, 0.05941122],\n",
       "       [0.05824395, 0.07666467, 0.06999178, 0.06127215],\n",
       "       [0.07675708, 0.07257788, 0.06689233, 0.07472925],\n",
       "       [0.07088654, 0.07076629, 0.0677769 , 0.07102198],\n",
       "       [0.06727336, 0.0585202 , 0.05980191, 0.06127215],\n",
       "       [0.06230435, 0.06350565, 0.05803279, 0.06173191],\n",
       "       [0.06637184, 0.06623017, 0.06024768, 0.06823423],\n",
       "       [0.06681905, 0.05896953, 0.0562567 , 0.06219897],\n",
       "       [0.05643381, 0.05806373, 0.04872749, 0.04920162],\n",
       "       [0.05914547, 0.06668664, 0.05803279, 0.06080509],\n",
       "       [0.06591753, 0.08618624, 0.08947999, 0.06451966],\n",
       "       [0.08127178, 0.08346885, 0.08372686, 0.08494614],\n",
       "       [0.07946164, 0.0961714 , 0.09745497, 0.08169133],\n",
       "       [0.09210424, 0.08981656, 0.08461142, 0.08912047],\n",
       "       [0.09164993, 0.08483111, 0.08372686, 0.08494614],\n",
       "       [0.08307483, 0.07076629, 0.07309123, 0.07380243],\n",
       "       [0.06953071, 0.08618624, 0.08151197, 0.07287562]])"
      ]
     },
     "execution_count": 24,
     "metadata": {},
     "output_type": "execute_result"
    }
   ],
   "source": [
    "train_000001_4col_df[0:30]"
   ]
  },
  {
   "cell_type": "code",
   "execution_count": 25,
   "metadata": {
    "pycharm": {
     "name": "#%%\n"
    }
   },
   "outputs": [],
   "source": [
    "data_raw = []\n",
    "data_raw.append(train_000001_4col_df[0:30])\n",
    "data_raw.append(train_000001_4col_df[1:31])"
   ]
  },
  {
   "cell_type": "code",
   "execution_count": 26,
   "metadata": {
    "pycharm": {
     "name": "#%%\n"
    }
   },
   "outputs": [],
   "source": [
    "data_raw = np.array(data_raw)"
   ]
  },
  {
   "cell_type": "code",
   "execution_count": 27,
   "metadata": {
    "pycharm": {
     "name": "#%%\n"
    }
   },
   "outputs": [
    {
     "data": {
      "text/plain": [
       "array([[[0.09255855, 0.09662073, 0.08904119, 0.0932948 ],\n",
       "        [0.09390728, 0.08301238, 0.0832811 , 0.08123157],\n",
       "        [0.08217331, 0.07122275, 0.07442155, 0.06823423],\n",
       "        [0.06591753, 0.06940403, 0.06556201, 0.06870129],\n",
       "        [0.07088654, 0.07530241, 0.07353699, 0.06916105],\n",
       "        [0.0731439 , 0.07802693, 0.07575188, 0.07472925],\n",
       "        [0.07720429, 0.07802693, 0.07397579, 0.07519631],\n",
       "        [0.07810581, 0.06804177, 0.07220667, 0.06730741],\n",
       "        [0.06772767, 0.07349081, 0.06600777, 0.06591354],\n",
       "        [0.07359111, 0.07122275, 0.06467745, 0.07055492],\n",
       "        [0.07178806, 0.07212855, 0.06733113, 0.07148174],\n",
       "        [0.06998502, 0.06259985, 0.06024768, 0.06544648],\n",
       "        [0.06366018, 0.05443341, 0.05315726, 0.0561637 ],\n",
       "        [0.05643381, 0.05715794, 0.05670247, 0.05941122],\n",
       "        [0.05824395, 0.07666467, 0.06999178, 0.06127215],\n",
       "        [0.07675708, 0.07257788, 0.06689233, 0.07472925],\n",
       "        [0.07088654, 0.07076629, 0.0677769 , 0.07102198],\n",
       "        [0.06727336, 0.0585202 , 0.05980191, 0.06127215],\n",
       "        [0.06230435, 0.06350565, 0.05803279, 0.06173191],\n",
       "        [0.06637184, 0.06623017, 0.06024768, 0.06823423],\n",
       "        [0.06681905, 0.05896953, 0.0562567 , 0.06219897],\n",
       "        [0.05643381, 0.05806373, 0.04872749, 0.04920162],\n",
       "        [0.05914547, 0.06668664, 0.05803279, 0.06080509],\n",
       "        [0.06591753, 0.08618624, 0.08947999, 0.06451966],\n",
       "        [0.08127178, 0.08346885, 0.08372686, 0.08494614],\n",
       "        [0.07946164, 0.0961714 , 0.09745497, 0.08169133],\n",
       "        [0.09210424, 0.08981656, 0.08461142, 0.08912047],\n",
       "        [0.09164993, 0.08483111, 0.08372686, 0.08494614],\n",
       "        [0.08307483, 0.07076629, 0.07309123, 0.07380243],\n",
       "        [0.06953071, 0.08618624, 0.08151197, 0.07287562]],\n",
       "\n",
       "       [[0.09390728, 0.08301238, 0.0832811 , 0.08123157],\n",
       "        [0.08217331, 0.07122275, 0.07442155, 0.06823423],\n",
       "        [0.06591753, 0.06940403, 0.06556201, 0.06870129],\n",
       "        [0.07088654, 0.07530241, 0.07353699, 0.06916105],\n",
       "        [0.0731439 , 0.07802693, 0.07575188, 0.07472925],\n",
       "        [0.07720429, 0.07802693, 0.07397579, 0.07519631],\n",
       "        [0.07810581, 0.06804177, 0.07220667, 0.06730741],\n",
       "        [0.06772767, 0.07349081, 0.06600777, 0.06591354],\n",
       "        [0.07359111, 0.07122275, 0.06467745, 0.07055492],\n",
       "        [0.07178806, 0.07212855, 0.06733113, 0.07148174],\n",
       "        [0.06998502, 0.06259985, 0.06024768, 0.06544648],\n",
       "        [0.06366018, 0.05443341, 0.05315726, 0.0561637 ],\n",
       "        [0.05643381, 0.05715794, 0.05670247, 0.05941122],\n",
       "        [0.05824395, 0.07666467, 0.06999178, 0.06127215],\n",
       "        [0.07675708, 0.07257788, 0.06689233, 0.07472925],\n",
       "        [0.07088654, 0.07076629, 0.0677769 , 0.07102198],\n",
       "        [0.06727336, 0.0585202 , 0.05980191, 0.06127215],\n",
       "        [0.06230435, 0.06350565, 0.05803279, 0.06173191],\n",
       "        [0.06637184, 0.06623017, 0.06024768, 0.06823423],\n",
       "        [0.06681905, 0.05896953, 0.0562567 , 0.06219897],\n",
       "        [0.05643381, 0.05806373, 0.04872749, 0.04920162],\n",
       "        [0.05914547, 0.06668664, 0.05803279, 0.06080509],\n",
       "        [0.06591753, 0.08618624, 0.08947999, 0.06451966],\n",
       "        [0.08127178, 0.08346885, 0.08372686, 0.08494614],\n",
       "        [0.07946164, 0.0961714 , 0.09745497, 0.08169133],\n",
       "        [0.09210424, 0.08981656, 0.08461142, 0.08912047],\n",
       "        [0.09164993, 0.08483111, 0.08372686, 0.08494614],\n",
       "        [0.08307483, 0.07076629, 0.07309123, 0.07380243],\n",
       "        [0.06953071, 0.08618624, 0.08151197, 0.07287562],\n",
       "        [0.08397635, 0.07530241, 0.0872651 , 0.07937064]]])"
      ]
     },
     "execution_count": 27,
     "metadata": {},
     "output_type": "execute_result"
    }
   ],
   "source": [
    "data_raw"
   ]
  },
  {
   "cell_type": "code",
   "execution_count": 28,
   "metadata": {
    "pycharm": {
     "name": "#%%\n"
    }
   },
   "outputs": [
    {
     "data": {
      "text/plain": [
       "array([[0.09662073, 0.08301238, 0.07122275, 0.06940403, 0.07530241,\n",
       "        0.07802693, 0.07802693, 0.06804177, 0.07349081, 0.07122275,\n",
       "        0.07212855, 0.06259985, 0.05443341, 0.05715794, 0.07666467,\n",
       "        0.07257788, 0.07076629, 0.0585202 , 0.06350565, 0.06623017,\n",
       "        0.05896953, 0.05806373, 0.06668664, 0.08618624, 0.08346885,\n",
       "        0.0961714 , 0.08981656, 0.08483111, 0.07076629, 0.08618624],\n",
       "       [0.08301238, 0.07122275, 0.06940403, 0.07530241, 0.07802693,\n",
       "        0.07802693, 0.06804177, 0.07349081, 0.07122275, 0.07212855,\n",
       "        0.06259985, 0.05443341, 0.05715794, 0.07666467, 0.07257788,\n",
       "        0.07076629, 0.0585202 , 0.06350565, 0.06623017, 0.05896953,\n",
       "        0.05806373, 0.06668664, 0.08618624, 0.08346885, 0.0961714 ,\n",
       "        0.08981656, 0.08483111, 0.07076629, 0.08618624, 0.07530241]])"
      ]
     },
     "execution_count": 28,
     "metadata": {},
     "output_type": "execute_result"
    }
   ],
   "source": [
    "data_raw[:, :, 1]"
   ]
  },
  {
   "cell_type": "code",
   "execution_count": 29,
   "metadata": {
    "pycharm": {
     "name": "#%%\n"
    }
   },
   "outputs": [],
   "source": [
    "x_train, y_train = load_data(train_000001_4col_df, 60)\n",
    "\n",
    "\n"
   ]
  },
  {
   "cell_type": "code",
   "execution_count": 30,
   "metadata": {
    "pycharm": {
     "name": "#%%\n"
    }
   },
   "outputs": [],
   "source": [
    "import torch\n",
    "import torch.nn as nn"
   ]
  },
  {
   "cell_type": "code",
   "execution_count": 31,
   "metadata": {
    "pycharm": {
     "name": "#%%\n"
    }
   },
   "outputs": [],
   "source": [
    "input_dim = 4\n",
    "hidden_dim = 32\n",
    "num_layers = 2\n",
    "output_dim = 1\n"
   ]
  },
  {
   "cell_type": "code",
   "execution_count": 32,
   "metadata": {
    "pycharm": {
     "name": "#%%\n"
    }
   },
   "outputs": [],
   "source": [
    "class LSTM(nn.Module):\n",
    "    def __init__(self, input_dim, hidden_dim, num_layers, output_dim):\n",
    "        super(LSTM, self).__init__()\n",
    "        # Hidden dimensions\n",
    "        self.hidden_dim = hidden_dim\n",
    "\n",
    "        # Number of hidden layers\n",
    "        self.num_layers = num_layers\n",
    "\n",
    "        # batch_first=True causes input/output tensors to be of shape\n",
    "        # (batch_dim, seq_dim, feature_dim)\n",
    "        self.lstm = nn.LSTM(input_dim, hidden_dim, num_layers, batch_first=True)\n",
    "\n",
    "        # Readout layer\n",
    "        self.fc = nn.Linear(hidden_dim, output_dim)\n",
    "\n",
    "    def forward(self, x):\n",
    "        # Initialize hidden state with zeros\n",
    "        # h0 = torch.zeros(self.num_layers, x.size(0), self.hidden_dim).requires_grad_()\n",
    "\n",
    "        # Initialize cell state\n",
    "        # c0 = torch.zeros(self.num_layers, x.size(0), self.hidden_dim).requires_grad_()\n",
    "\n",
    "        # We need to detach as we are doing truncated backpropagation through time (BPTT)\n",
    "        # If we don't, we'll backprop all the way to the start even after going through another batch\n",
    "        out, (h_n, c_n) = self.lstm(x)\n",
    "\n",
    "        # Index hidden state of last time step\n",
    "        # out.size() --> 100, 32, 100\n",
    "        # out[:, -1, :] --> 100, 100 --> just want last time step hidden states!\n",
    "        out = self.fc(out[:, -1, :])\n",
    "        # out.size() --> 100, 10\n",
    "        return out"
   ]
  },
  {
   "cell_type": "code",
   "execution_count": 33,
   "metadata": {
    "pycharm": {
     "name": "#%%\n"
    }
   },
   "outputs": [],
   "source": [
    "# Train model\n",
    "#####################\n"
   ]
  },
  {
   "cell_type": "code",
   "execution_count": 33,
   "metadata": {
    "pycharm": {
     "name": "#%%\n"
    }
   },
   "outputs": [],
   "source": []
  },
  {
   "cell_type": "code",
   "execution_count": 33,
   "metadata": {
    "pycharm": {
     "name": "#%%\n"
    }
   },
   "outputs": [],
   "source": []
  },
  {
   "cell_type": "code",
   "execution_count": 33,
   "metadata": {
    "pycharm": {
     "name": "#%%\n"
    }
   },
   "outputs": [],
   "source": []
  },
  {
   "cell_type": "code",
   "execution_count": 34,
   "metadata": {
    "pycharm": {
     "name": "#%%\n"
    }
   },
   "outputs": [],
   "source": [
    "device = torch.device('cuda' if torch.cuda.is_available() else 'cpu')"
   ]
  },
  {
   "cell_type": "code",
   "execution_count": 35,
   "metadata": {
    "pycharm": {
     "name": "#%%\n"
    }
   },
   "outputs": [
    {
     "data": {
      "text/plain": [
       "device(type='cuda')"
      ]
     },
     "execution_count": 35,
     "metadata": {},
     "output_type": "execute_result"
    }
   ],
   "source": [
    "device"
   ]
  },
  {
   "cell_type": "code",
   "execution_count": 35,
   "metadata": {
    "pycharm": {
     "name": "#%%\n"
    }
   },
   "outputs": [],
   "source": []
  },
  {
   "cell_type": "code",
   "execution_count": 36,
   "metadata": {
    "pycharm": {
     "name": "#%%\n"
    }
   },
   "outputs": [
    {
     "name": "stdout",
     "output_type": "stream",
     "text": [
      "LSTM(\n",
      "  (lstm): LSTM(4, 32, num_layers=2, batch_first=True)\n",
      "  (fc): Linear(in_features=32, out_features=1, bias=True)\n",
      ")\n",
      "10\n",
      "torch.Size([128, 4])\n",
      "torch.Size([128, 32])\n",
      "torch.Size([128])\n",
      "torch.Size([128])\n",
      "torch.Size([128, 32])\n",
      "torch.Size([128, 32])\n",
      "torch.Size([128])\n",
      "torch.Size([128])\n",
      "torch.Size([1, 32])\n",
      "torch.Size([1])\n"
     ]
    }
   ],
   "source": [
    "model = LSTM(input_dim=input_dim, hidden_dim=hidden_dim, output_dim=output_dim, num_layers=num_layers)\n",
    "model = model.to(device)\n",
    "loss_fn = torch.nn.MSELoss()\n",
    "\n",
    "optimiser = torch.optim.Adam(model.parameters(), lr=0.001)\n",
    "print(model)\n",
    "print(len(list(model.parameters())))\n",
    "for i in range(len(list(model.parameters()))):\n",
    "    print(list(model.parameters())[i].size())\n"
   ]
  },
  {
   "cell_type": "code",
   "execution_count": 37,
   "metadata": {
    "pycharm": {
     "name": "#%%\n"
    }
   },
   "outputs": [],
   "source": [
    "x_train, y_train = torch.Tensor(x_train), torch.Tensor(y_train)"
   ]
  },
  {
   "cell_type": "code",
   "execution_count": 38,
   "metadata": {
    "pycharm": {
     "name": "#%%\n"
    }
   },
   "outputs": [
    {
     "name": "stdout",
     "output_type": "stream",
     "text": [
      "Epoch  10 MSE:  0.127022847533226\n",
      "Epoch  20 MSE:  0.028494419530034065\n",
      "Epoch  30 MSE:  0.025834161788225174\n",
      "Epoch  40 MSE:  0.01883402280509472\n",
      "Epoch  50 MSE:  0.009082765318453312\n",
      "Epoch  60 MSE:  0.0032640951685607433\n",
      "Epoch  70 MSE:  0.002745886566117406\n",
      "Epoch  80 MSE:  0.0022733246441930532\n",
      "Epoch  90 MSE:  0.002024950459599495\n",
      "Epoch  100 MSE:  0.0019578852225095034\n",
      "Epoch  110 MSE:  0.0018504011677578092\n",
      "Epoch  120 MSE:  0.0017871652962639928\n",
      "Epoch  130 MSE:  0.0017264868365600705\n",
      "Epoch  140 MSE:  0.0016717310063540936\n",
      "Epoch  150 MSE:  0.0016217684606090188\n",
      "Epoch  160 MSE:  0.0015748091973364353\n",
      "Epoch  170 MSE:  0.0015306280693039298\n",
      "Epoch  180 MSE:  0.0014884528936818242\n",
      "Epoch  190 MSE:  0.0014478657394647598\n",
      "Epoch  200 MSE:  0.001408388838171959\n",
      "Epoch  210 MSE:  0.0013697028625756502\n",
      "Epoch  220 MSE:  0.0013316344702616334\n",
      "Epoch  230 MSE:  0.0012941759778186679\n",
      "Epoch  240 MSE:  0.0012574698776006699\n",
      "Epoch  250 MSE:  0.001221732934936881\n",
      "Epoch  260 MSE:  0.0011871522292494774\n",
      "Epoch  270 MSE:  0.0011540100676938891\n",
      "Epoch  280 MSE:  0.0011232310207560658\n",
      "Epoch  290 MSE:  0.0010966851841658354\n",
      "Epoch  300 MSE:  0.0010754633694887161\n",
      "Epoch  310 MSE:  0.0010580734815448523\n",
      "Epoch  320 MSE:  0.0010427096858620644\n",
      "Epoch  330 MSE:  0.0010287397308275104\n",
      "Epoch  340 MSE:  0.001015780959278345\n",
      "Epoch  350 MSE:  0.0010035551385954022\n",
      "Epoch  360 MSE:  0.0009919421281665564\n",
      "Epoch  370 MSE:  0.0009808624163269997\n",
      "Epoch  380 MSE:  0.000970248191151768\n",
      "Epoch  390 MSE:  0.0009600466582924128\n",
      "Epoch  400 MSE:  0.000950213463511318\n",
      "Epoch  410 MSE:  0.0009407126344740391\n",
      "Epoch  420 MSE:  0.0009315139031969011\n",
      "Epoch  430 MSE:  0.0009225907269865274\n",
      "Epoch  440 MSE:  0.0009139198809862137\n",
      "Epoch  450 MSE:  0.0009054800611920655\n",
      "Epoch  460 MSE:  0.0008972518844529986\n",
      "Epoch  470 MSE:  0.0008892176556400955\n",
      "Epoch  480 MSE:  0.0008813600870780647\n",
      "Epoch  490 MSE:  0.0008736634044907987\n",
      "Epoch  500 MSE:  0.0008661120082251728\n",
      "Epoch  510 MSE:  0.0008586912881582975\n",
      "Epoch  520 MSE:  0.000851387158036232\n",
      "Epoch  530 MSE:  0.0008441857644356787\n",
      "Epoch  540 MSE:  0.0008370745927095413\n",
      "Epoch  550 MSE:  0.000830040720757097\n",
      "Epoch  560 MSE:  0.0008230717503465712\n",
      "Epoch  570 MSE:  0.000816156854853034\n",
      "Epoch  580 MSE:  0.0008092844509519637\n",
      "Epoch  590 MSE:  0.0008024440612643957\n",
      "Epoch  600 MSE:  0.0007956256158649921\n",
      "Epoch  610 MSE:  0.0007888192194513977\n",
      "Epoch  620 MSE:  0.0007820161990821362\n",
      "Epoch  630 MSE:  0.000775206892285496\n",
      "Epoch  640 MSE:  0.0007683842559345067\n",
      "Epoch  650 MSE:  0.0007615400827489793\n",
      "Epoch  660 MSE:  0.0007546673296019435\n",
      "Epoch  670 MSE:  0.0007477595354430377\n",
      "Epoch  680 MSE:  0.0007408111705444753\n",
      "Epoch  690 MSE:  0.0007338168215937912\n",
      "Epoch  700 MSE:  0.0007267718319781125\n",
      "Epoch  710 MSE:  0.0007196730584837496\n",
      "Epoch  720 MSE:  0.0007125170668587089\n",
      "Epoch  730 MSE:  0.00070530193625018\n",
      "Epoch  740 MSE:  0.0006980260950513184\n",
      "Epoch  750 MSE:  0.0006906896596774459\n",
      "Epoch  760 MSE:  0.0006832932122051716\n",
      "Epoch  770 MSE:  0.0006758386734873056\n",
      "Epoch  780 MSE:  0.0006683292449451983\n",
      "Epoch  790 MSE:  0.0006607698160223663\n",
      "Epoch  800 MSE:  0.0006531665567308664\n",
      "Epoch  810 MSE:  0.0006455286056734622\n",
      "Epoch  820 MSE:  0.0006378665566444397\n",
      "Epoch  830 MSE:  0.0006301941466517746\n",
      "Epoch  840 MSE:  0.0006225291290320456\n",
      "Epoch  850 MSE:  0.000614892749581486\n",
      "Epoch  860 MSE:  0.0006073115509934723\n",
      "Epoch  870 MSE:  0.0005998174892738461\n",
      "Epoch  880 MSE:  0.0005924494471400976\n",
      "Epoch  890 MSE:  0.0005852524773217738\n",
      "Epoch  900 MSE:  0.0005782792577520013\n",
      "Epoch  910 MSE:  0.0005715878214687109\n",
      "Epoch  920 MSE:  0.0005652390536852181\n",
      "Epoch  930 MSE:  0.000559292093385011\n",
      "Epoch  940 MSE:  0.0005537964752875268\n",
      "Epoch  950 MSE:  0.0005487842718139291\n",
      "Epoch  960 MSE:  0.0005442610126920044\n",
      "Epoch  970 MSE:  0.0005402030656114221\n",
      "Epoch  980 MSE:  0.0005365610122680664\n",
      "Epoch  990 MSE:  0.0005332700675353408\n",
      "Epoch  1000 MSE:  0.0005302628269419074\n",
      "Epoch  1010 MSE:  0.0005274785798974335\n",
      "Epoch  1020 MSE:  0.0005248673842288554\n",
      "Epoch  1030 MSE:  0.0005223904154263437\n",
      "Epoch  1040 MSE:  0.0005200175219215453\n",
      "Epoch  1050 MSE:  0.0005177269922569394\n",
      "Epoch  1060 MSE:  0.0005155022954568267\n",
      "Epoch  1070 MSE:  0.000513331382535398\n",
      "Epoch  1080 MSE:  0.0005112055805511773\n",
      "Epoch  1090 MSE:  0.0005091186030767858\n",
      "Epoch  1100 MSE:  0.0005070652696304023\n",
      "Epoch  1110 MSE:  0.0005050422041676939\n",
      "Epoch  1120 MSE:  0.0005030465545132756\n",
      "Epoch  1130 MSE:  0.0005010764580219984\n",
      "Epoch  1140 MSE:  0.0004991298192180693\n",
      "Epoch  1150 MSE:  0.0004972055903635919\n",
      "Epoch  1160 MSE:  0.000495302549097687\n",
      "Epoch  1170 MSE:  0.0004934196476824582\n",
      "Epoch  1180 MSE:  0.0004915563040412962\n",
      "Epoch  1190 MSE:  0.0004897116450592875\n",
      "Epoch  1200 MSE:  0.00048788514686748385\n",
      "Epoch  1210 MSE:  0.00048607587814331055\n",
      "Epoch  1220 MSE:  0.00048428363515995443\n",
      "Epoch  1230 MSE:  0.00048250763211399317\n",
      "Epoch  1240 MSE:  0.0004807475779671222\n",
      "Epoch  1250 MSE:  0.00047900291974656284\n",
      "Epoch  1260 MSE:  0.00047727287164889276\n",
      "Epoch  1270 MSE:  0.000475557055324316\n",
      "Epoch  1280 MSE:  0.00047385497600771487\n",
      "Epoch  1290 MSE:  0.0004721670993603766\n",
      "Epoch  1300 MSE:  0.00047101147356443107\n",
      "Epoch  1310 MSE:  0.00046894795377738774\n",
      "Epoch  1320 MSE:  0.0004673052753787488\n",
      "Epoch  1330 MSE:  0.00046558782923966646\n",
      "Epoch  1340 MSE:  0.0004639715771190822\n",
      "Epoch  1350 MSE:  0.0004623558488674462\n",
      "Epoch  1360 MSE:  0.00046075895079411566\n",
      "Epoch  1370 MSE:  0.000459168542874977\n",
      "Epoch  1380 MSE:  0.00045758660417050123\n",
      "Epoch  1390 MSE:  0.0004560591478366405\n",
      "Epoch  1400 MSE:  0.000455532775959\n",
      "Epoch  1410 MSE:  0.00045293106813915074\n",
      "Epoch  1420 MSE:  0.00045152989332564175\n",
      "Epoch  1430 MSE:  0.0004498391936067492\n",
      "Epoch  1440 MSE:  0.0004483065858948976\n",
      "Epoch  1450 MSE:  0.00044677816913463175\n",
      "Epoch  1460 MSE:  0.0004452595312613994\n",
      "Epoch  1470 MSE:  0.00044429319677874446\n",
      "Epoch  1480 MSE:  0.0004422862839419395\n",
      "Epoch  1490 MSE:  0.00044131148024462163\n"
     ]
    }
   ],
   "source": [
    "look_back=60\n",
    "num_epochs = 1500\n",
    "hist = np.zeros(num_epochs)\n",
    "\n",
    "# Number of steps to unroll\n",
    "seq_dim =look_back-1\n",
    "loss_list = []\n",
    "\n",
    "for t in range(num_epochs):\n",
    "    # Initialise hidden state\n",
    "    # Don't do this if you want your LSTM to be stateful\n",
    "    #model.hidden = model.init_hidden()\n",
    "\n",
    "    # Forward pass\n",
    "    y_train_pred = model(x_train.to(device))\n",
    "\n",
    "    loss = loss_fn(y_train_pred, y_train.to(device))\n",
    "\n",
    "    if t % 10 == 0 and t !=0:\n",
    "        print(\"Epoch \", t, \"MSE: \", loss.item())\n",
    "        loss_list.append(loss.item())\n",
    "    hist[t] = loss.item()\n",
    "\n",
    "    # Zero out gradient, else they will accumulate between epochs\n",
    "    optimiser.zero_grad()\n",
    "\n",
    "    # Backward pass\n",
    "    loss.backward()\n",
    "\n",
    "    # Update parameters\n",
    "    optimiser.step()"
   ]
  },
  {
   "cell_type": "code",
   "execution_count": 44,
   "metadata": {
    "pycharm": {
     "name": "#%%\n"
    }
   },
   "outputs": [
    {
     "data": {
      "text/plain": [
       "Text(0.5, 1.0, 'Loss value per 10 epoch')"
      ]
     },
     "execution_count": 44,
     "metadata": {},
     "output_type": "execute_result"
    },
    {
     "data": {
      "image/png": "[encoded data removed]",
      "text/plain": [
       "<Figure size 432x288 with 1 Axes>"
      ]
     },
     "metadata": {
      "needs_background": "light"
     },
     "output_type": "display_data"
    }
   ],
   "source": [
    "plt.plot(loss_list)\n",
    "plt.xlabel(\"train epoch * 10\")\n",
    "plt.ylabel(\"MSE loss\")\n",
    "plt.title(\"Loss value per 10 epoch\")"
   ]
  },
  {
   "cell_type": "code",
   "execution_count": 40,
   "metadata": {
    "pycharm": {
     "name": "#%%\n"
    }
   },
   "outputs": [],
   "source": [
    "x_test, y_test = load_data(test_000001_4_col_df, 60)"
   ]
  },
  {
   "cell_type": "code",
   "execution_count": 41,
   "metadata": {
    "pycharm": {
     "name": "#%%\n"
    }
   },
   "outputs": [],
   "source": [
    "x_test, y_test = torch.Tensor(x_test), torch.Tensor(y_test)"
   ]
  },
  {
   "cell_type": "code",
   "execution_count": 42,
   "metadata": {
    "pycharm": {
     "name": "#%%\n"
    }
   },
   "outputs": [],
   "source": [
    "y_test_pre = model(x_test.to(device))"
   ]
  },
  {
   "cell_type": "code",
   "execution_count": 49,
   "metadata": {
    "pycharm": {
     "name": "#%%\n"
    }
   },
   "outputs": [
    {
     "data": {
      "text/plain": [
       "<matplotlib.legend.Legend at 0x7f2d11609490>"
      ]
     },
     "execution_count": 49,
     "metadata": {},
     "output_type": "execute_result"
    },
    {
     "data": {
      "image/png": "[encoded data removed]",
      "text/plain": [
       "<Figure size 432x288 with 1 Axes>"
      ]
     },
     "metadata": {
      "needs_background": "light"
     },
     "output_type": "display_data"
    }
   ],
   "source": [
    "l1 = plt.plot(y_test, label='y_test')\n",
    "l2 = plt.plot(y_test_pre.cpu().detach().numpy(), label = 'y_test_predict')\n",
    "\n",
    "plt.legend()\n"
   ]
  },
  {
   "cell_type": "code",
   "execution_count": 85,
   "metadata": {
    "pycharm": {
     "name": "#%%\n"
    }
   },
   "outputs": [],
   "source": []
  },
  {
   "cell_type": "code",
   "execution_count": null,
   "metadata": {
    "pycharm": {
     "name": "#%%\n"
    }
   },
   "outputs": [],
   "source": []
  },
  {
   "cell_type": "code",
   "execution_count": 50,
   "metadata": {
    "pycharm": {
     "name": "#%%\n"
    }
   },
   "outputs": [
    {
     "data": {
      "text/plain": [
       "torch.Size([65544, 5, 1])"
      ]
     },
     "execution_count": 50,
     "metadata": {},
     "output_type": "execute_result"
    }
   ],
   "source": [
    "x_train.shape"
   ]
  },
  {
   "cell_type": "code",
   "execution_count": 40,
   "metadata": {
    "pycharm": {
     "name": "#%%\n"
    }
   },
   "outputs": [],
   "source": [
    "torch.cuda.empty_cache()"
   ]
  },
  {
   "cell_type": "code",
   "execution_count": 41,
   "metadata": {
    "pycharm": {
     "name": "#%%\n"
    }
   },
   "outputs": [
    {
     "data": {
      "text/plain": [
       "True"
      ]
     },
     "execution_count": 41,
     "metadata": {},
     "output_type": "execute_result"
    }
   ],
   "source": [
    "torch.cuda.is_available()\n"
   ]
  },
  {
   "cell_type": "code",
   "execution_count": 42,
   "metadata": {
    "pycharm": {
     "name": "#%%\n"
    }
   },
   "outputs": [],
   "source": [
    "# function to create train, test data given stock data and sequence length\n",
    "def load_data_transformer(stock_df, look_back):\n",
    "    data_raw = stock_df\n",
    "    data = []\n",
    "\n",
    "    # create all possible sequences of length look_back\n",
    "    for index in range(len(data_raw) - look_back):\n",
    "        data.append(data_raw[index: index + look_back])\n",
    "\n",
    "    data = np.array(data);\n",
    "\n",
    "    x = data[:,:-1, :]\n",
    "    y = data[:,-1, :]\n",
    "\n",
    "    y = np.expand_dims(y, axis=1)\n",
    "\n",
    "    return [x, y]\n"
   ]
  },
  {
   "cell_type": "code",
   "execution_count": 43,
   "metadata": {
    "pycharm": {
     "name": "#%%\n"
    }
   },
   "outputs": [],
   "source": [
    "x_train_transformer, y_train_transformer = load_data_transformer(train_000001_4col_df, 60)\n"
   ]
  },
  {
   "cell_type": "code",
   "execution_count": 44,
   "metadata": {
    "pycharm": {
     "name": "#%%\n"
    }
   },
   "outputs": [
    {
     "data": {
      "text/plain": [
       "(1403, 59, 4)"
      ]
     },
     "execution_count": 44,
     "metadata": {},
     "output_type": "execute_result"
    }
   ],
   "source": [
    "x_train_transformer.shape"
   ]
  },
  {
   "cell_type": "code",
   "execution_count": 45,
   "metadata": {
    "pycharm": {
     "name": "#%%\n"
    }
   },
   "outputs": [
    {
     "data": {
      "text/plain": [
       "(1403, 1, 4)"
      ]
     },
     "execution_count": 45,
     "metadata": {},
     "output_type": "execute_result"
    }
   ],
   "source": [
    "y_train_transformer.shape"
   ]
  },
  {
   "cell_type": "code",
   "execution_count": 46,
   "metadata": {
    "pycharm": {
     "name": "#%%\n"
    }
   },
   "outputs": [],
   "source": [
    "x_train_transformer, y_train_transformer = torch.Tensor(x_train_transformer), torch.Tensor(y_train_transformer)"
   ]
  },
  {
   "cell_type": "code",
   "execution_count": 184,
   "metadata": {
    "pycharm": {
     "name": "#%%\n"
    }
   },
   "outputs": [],
   "source": []
  },
  {
   "cell_type": "code",
   "execution_count": 47,
   "metadata": {
    "pycharm": {
     "name": "#%%\n"
    }
   },
   "outputs": [],
   "source": [
    "from torch.utils.data import DataLoader, Dataset\n"
   ]
  },
  {
   "cell_type": "code",
   "execution_count": 49,
   "metadata": {
    "pycharm": {
     "name": "#%%\n"
    }
   },
   "outputs": [],
   "source": [
    "class StockDataset(Dataset):\n",
    "    def __init__(self, data_tensor, label_tensor):\n",
    "        self.data_tensor = data_tensor\n",
    "        self.lable_tensor = label_tensor\n",
    "\n",
    "\n",
    "    def __len__(self):\n",
    "        return self.data_tensor.size(0)\n",
    "\n",
    "    def __getitem__(self, idx):\n",
    "        return self.data_tensor[idx, :, :], self.lable_tensor[idx, :, :]\n",
    "\n",
    "\n"
   ]
  },
  {
   "cell_type": "code",
   "execution_count": 51,
   "metadata": {
    "pycharm": {
     "name": "#%%\n"
    }
   },
   "outputs": [],
   "source": [
    "train_dataset = StockDataset(x_train_transformer, y_train_transformer)\n"
   ]
  },
  {
   "cell_type": "code",
   "execution_count": 54,
   "metadata": {
    "pycharm": {
     "name": "#%%\n"
    }
   },
   "outputs": [],
   "source": [
    "data_0, label_0 = train_dataset[0]"
   ]
  },
  {
   "cell_type": "code",
   "execution_count": 55,
   "metadata": {
    "pycharm": {
     "name": "#%%\n"
    }
   },
   "outputs": [
    {
     "data": {
      "text/plain": [
       "torch.Size([59, 4])"
      ]
     },
     "execution_count": 55,
     "metadata": {},
     "output_type": "execute_result"
    }
   ],
   "source": [
    "data_0.shape\n"
   ]
  },
  {
   "cell_type": "code",
   "execution_count": 56,
   "metadata": {
    "pycharm": {
     "name": "#%%\n"
    }
   },
   "outputs": [
    {
     "data": {
      "text/plain": [
       "torch.Size([1, 4])"
      ]
     },
     "execution_count": 56,
     "metadata": {},
     "output_type": "execute_result"
    }
   ],
   "source": [
    "label_0.shape\n",
    "\n"
   ]
  },
  {
   "cell_type": "code",
   "execution_count": 57,
   "metadata": {
    "pycharm": {
     "name": "#%%\n"
    }
   },
   "outputs": [],
   "source": [
    "train_dataloader = DataLoader(train_dataset,batch_size=64, shuffle=False)\n"
   ]
  },
  {
   "cell_type": "code",
   "execution_count": 60,
   "metadata": {
    "pycharm": {
     "name": "#%%\n"
    }
   },
   "outputs": [
    {
     "data": {
      "text/plain": [
       "torch.Size([64, 59, 4])"
      ]
     },
     "execution_count": 60,
     "metadata": {},
     "output_type": "execute_result"
    }
   ],
   "source": [
    "next(iter(train_dataloader))[0].shape"
   ]
  },
  {
   "cell_type": "code",
   "execution_count": 61,
   "metadata": {
    "pycharm": {
     "name": "#%%\n"
    }
   },
   "outputs": [],
   "source": [
    "transformer_model = nn.Transformer(d_model=4, nhead=2, batch_first=True)"
   ]
  },
  {
   "cell_type": "code",
   "execution_count": 63,
   "metadata": {
    "pycharm": {
     "name": "#%%\n"
    }
   },
   "outputs": [],
   "source": [
    "transformer_model = transformer_model.to(device)"
   ]
  },
  {
   "cell_type": "code",
   "execution_count": 64,
   "metadata": {
    "pycharm": {
     "name": "#%%\n"
    }
   },
   "outputs": [],
   "source": [
    "import torch.optim as optim\n",
    "\n",
    "criterion = nn.MSELoss()\n",
    "optimizer = optim.Adam(transformer_model.parameters(), lr=0.001)"
   ]
  },
  {
   "cell_type": "code",
   "execution_count": 66,
   "metadata": {
    "pycharm": {
     "name": "#%%\n"
    }
   },
   "outputs": [
    {
     "name": "stdout",
     "output_type": "stream",
     "text": [
      "[1,     2] loss: 0.001\n",
      "[1,    12] loss: 0.005\n",
      "[1,    22] loss: 0.006\n",
      "[2,     2] loss: 0.001\n",
      "[2,    12] loss: 0.005\n",
      "[2,    22] loss: 0.006\n",
      "[3,     2] loss: 0.001\n",
      "[3,    12] loss: 0.005\n",
      "[3,    22] loss: 0.006\n",
      "[4,     2] loss: 0.001\n",
      "[4,    12] loss: 0.004\n",
      "[4,    22] loss: 0.005\n",
      "[5,     2] loss: 0.001\n",
      "[5,    12] loss: 0.004\n",
      "[5,    22] loss: 0.005\n",
      "[6,     2] loss: 0.001\n",
      "[6,    12] loss: 0.003\n",
      "[6,    22] loss: 0.004\n",
      "[7,     2] loss: 0.001\n",
      "[7,    12] loss: 0.003\n",
      "[7,    22] loss: 0.004\n",
      "[8,     2] loss: 0.001\n",
      "[8,    12] loss: 0.003\n",
      "[8,    22] loss: 0.004\n",
      "[9,     2] loss: 0.000\n",
      "[9,    12] loss: 0.003\n",
      "[9,    22] loss: 0.003\n",
      "[10,     2] loss: 0.000\n",
      "[10,    12] loss: 0.002\n",
      "[10,    22] loss: 0.003\n",
      "Finished Training\n"
     ]
    }
   ],
   "source": [
    "for epoch in range(10):  # loop over the dataset multiple times\n",
    "\n",
    "    running_loss = 0.0\n",
    "    for i, data in enumerate(train_dataloader, 0):\n",
    "        # get the inputs; data is a list of [inputs, labels]\n",
    "        inputs, labels = data[0].to(device), data[1].to(device)\n",
    "\n",
    "        # zero the parameter gradients\n",
    "        optimizer.zero_grad()\n",
    "\n",
    "        # forward + backward + optimize\n",
    "        outputs = transformer_model(inputs, labels)\n",
    "        loss = criterion(outputs, labels)\n",
    "        loss.backward()\n",
    "        optimizer.step()\n",
    "\n",
    "        # print statistics\n",
    "        running_loss += loss.item()\n",
    "        if i % 10 == 1:    # print every 2000 mini-batches\n",
    "            print('[%d, %5d] loss: %.3f' %\n",
    "                  (epoch + 1, i + 1, running_loss / 2000))\n",
    "            running_loss = 0.0\n",
    "\n",
    "print('Finished Training')"
   ]
  },
  {
   "cell_type": "code",
   "execution_count": 69,
   "metadata": {
    "pycharm": {
     "name": "#%%\n"
    }
   },
   "outputs": [],
   "source": [
    "x_test_transformer, y_test_transformer = load_data_transformer(test_000001_4_col_df, 60)\n"
   ]
  },
  {
   "cell_type": "code",
   "execution_count": 81,
   "metadata": {
    "pycharm": {
     "name": "#%%\n"
    }
   },
   "outputs": [],
   "source": [
    "x_test_transformer, y_test_transformer = torch.Tensor(x_test_transformer), torch.Tensor(y_test_transformer)"
   ]
  },
  {
   "cell_type": "code",
   "execution_count": 82,
   "metadata": {
    "pycharm": {
     "name": "#%%\n"
    }
   },
   "outputs": [
    {
     "data": {
      "text/plain": [
       "torch.Size([182, 59, 4])"
      ]
     },
     "execution_count": 82,
     "metadata": {},
     "output_type": "execute_result"
    }
   ],
   "source": [
    "x_test_transformer.shape"
   ]
  },
  {
   "cell_type": "code",
   "execution_count": 83,
   "metadata": {
    "pycharm": {
     "name": "#%%\n"
    }
   },
   "outputs": [
    {
     "data": {
      "text/plain": [
       "torch.Size([182, 1, 4])"
      ]
     },
     "execution_count": 83,
     "metadata": {},
     "output_type": "execute_result"
    }
   ],
   "source": [
    "y_test_transformer.shape\n",
    "\n"
   ]
  },
  {
   "cell_type": "code",
   "execution_count": 1,
   "metadata": {
    "pycharm": {
     "name": "#%%\n"
    }
   },
   "outputs": [
    {
     "ename": "NameError",
     "evalue": "name 'transformer_model' is not defined",
     "output_type": "error",
     "traceback": [
      "\u001B[0;31m---------------------------------------------------------------------------\u001B[0m",
      "\u001B[0;31mNameError\u001B[0m                                 Traceback (most recent call last)",
      "\u001B[0;32m<ipython-input-1-c1e2d49b9db5>\u001B[0m in \u001B[0;36m<module>\u001B[0;34m\u001B[0m\n\u001B[0;32m----> 1\u001B[0;31m \u001B[0moutput_transformer\u001B[0m \u001B[0;34m=\u001B[0m \u001B[0mtransformer_model\u001B[0m\u001B[0;34m(\u001B[0m\u001B[0mx_test_transformer\u001B[0m\u001B[0;34m.\u001B[0m\u001B[0mto\u001B[0m\u001B[0;34m(\u001B[0m\u001B[0mdevice\u001B[0m\u001B[0;34m)\u001B[0m\u001B[0;34m,\u001B[0m \u001B[0my_test_transformer\u001B[0m\u001B[0;34m.\u001B[0m\u001B[0mto\u001B[0m\u001B[0;34m(\u001B[0m\u001B[0mdevice\u001B[0m\u001B[0;34m)\u001B[0m\u001B[0;34m)\u001B[0m\u001B[0;34m\u001B[0m\u001B[0;34m\u001B[0m\u001B[0m\n\u001B[0m\u001B[1;32m      2\u001B[0m \u001B[0;34m\u001B[0m\u001B[0m\n",
      "\u001B[0;31mNameError\u001B[0m: name 'transformer_model' is not defined"
     ]
    }
   ],
   "source": [
    "output_transformer = transformer_model(x_test_transformer.to(device), y_test_transformer.to(device))"
   ]
  },
  {
   "cell_type": "code",
   "execution_count": 96,
   "metadata": {
    "pycharm": {
     "name": "#%%\n"
    }
   },
   "outputs": [
    {
     "data": {
      "text/plain": [
       "[<matplotlib.lines.Line2D at 0x7fb2581b10a0>]"
      ]
     },
     "execution_count": 96,
     "metadata": {},
     "output_type": "execute_result"
    },
    {
     "data": {
      "image/png": "[encoded data removed]",
      "text/plain": [
       "<Figure size 432x288 with 1 Axes>"
      ]
     },
     "metadata": {
      "needs_background": "light"
     },
     "output_type": "display_data"
    }
   ],
   "source": [
    "plt.plot(y_test_transformer[:,:, 1])\n",
    "plt.plot(output_transformer.cpu().detach().numpy()[:,:,1])"
   ]
  },
  {
   "cell_type": "code",
   "execution_count": 2,
   "metadata": {
    "pycharm": {
     "name": "#%%\n"
    }
   },
   "outputs": [],
   "source": [
    "\n",
    "import math\n",
    "\n",
    "import torch\n",
    "import torch.nn as nn\n",
    "import torch.nn.functional as F\n",
    "from torch.nn import TransformerEncoder, TransformerEncoderLayer"
   ]
  },
  {
   "cell_type": "code",
   "execution_count": 34,
   "metadata": {
    "pycharm": {
     "name": "#%%\n"
    }
   },
   "outputs": [],
   "source": [
    "class TransformerModel(nn.Module):\n",
    "\n",
    "    def __init__(self, ntoken=0, ninp=4, nhead=2, nhid=16, nlayers=2, dropout=0.5):\n",
    "        super(TransformerModel, self).__init__()\n",
    "        self.model_type = 'Transformer'\n",
    "        self.pos_encoder = PositionalEncoding(ninp, dropout)\n",
    "        encoder_layers = TransformerEncoderLayer(ninp, nhead, nhid, dropout)\n",
    "        self.transformer_encoder = TransformerEncoder(encoder_layers, nlayers)\n",
    "        # self.encoder = nn.Embedding(ntoken, ninp)\n",
    "        self.ninp = ninp\n",
    "        self.decoder = nn.Linear(ninp, ntoken)\n",
    "\n",
    "        self.init_weights()\n",
    "\n",
    "    def generate_square_subsequent_mask(self, sz):\n",
    "        mask = (torch.triu(torch.ones(sz, sz)) == 1).transpose(0, 1)\n",
    "        mask = mask.float().masked_fill(mask == 0, float('-inf')).masked_fill(mask == 1, float(0.0))\n",
    "        return mask\n",
    "\n",
    "    def init_weights(self):\n",
    "        initrange = 0.1\n",
    "        # self.encoder.weight.data.uniform_(-initrange, initrange)\n",
    "        self.decoder.bias.data.zero_()\n",
    "        self.decoder.weight.data.uniform_(-initrange, initrange)\n",
    "\n",
    "    def forward(self, src, src_mask):\n",
    "        # src = self.encoder(src) * math.sqrt(self.ninp)\n",
    "        src = src * math.sqrt(self.ninp)\n",
    "        src = self.pos_encoder(src)\n",
    "        output = self.transformer_encoder(src, src_mask)\n",
    "        output = self.decoder(output)\n",
    "        return output"
   ]
  },
  {
   "cell_type": "code",
   "execution_count": 35,
   "metadata": {
    "pycharm": {
     "name": "#%%\n"
    }
   },
   "outputs": [],
   "source": [
    "class PositionalEncoding(nn.Module):\n",
    "\n",
    "    def __init__(self, d_model, dropout=0.1, max_len=100):\n",
    "        super(PositionalEncoding, self).__init__()\n",
    "        self.dropout = nn.Dropout(p=dropout)\n",
    "\n",
    "        pe = torch.zeros(max_len, d_model)\n",
    "        position = torch.arange(0, max_len, dtype=torch.float).unsqueeze(1)\n",
    "        div_term = torch.exp(torch.arange(0, d_model, 2).float() * (-math.log(10000.0) / d_model))\n",
    "        pe[:, 0::2] = torch.sin(position * div_term)\n",
    "        pe[:, 1::2] = torch.cos(position * div_term)\n",
    "        pe = pe.unsqueeze(0).transpose(0, 1)\n",
    "        self.register_buffer('pe', pe)\n",
    "\n",
    "    def forward(self, x):\n",
    "        x = x + self.pe[:x.size(0), :]\n",
    "        return self.dropout(x)"
   ]
  },
  {
   "cell_type": "code",
   "execution_count": 36,
   "metadata": {
    "pycharm": {
     "name": "#%%\n"
    }
   },
   "outputs": [],
   "source": [
    "import torch\n",
    "from torchtext.datasets import WikiText2\n",
    "from torchtext.data.utils import get_tokenizer\n",
    "from torchtext.vocab import build_vocab_from_iterator\n",
    "\n",
    "train_iter = WikiText2(split='train')\n",
    "tokenizer = get_tokenizer('basic_english')\n",
    "vocab = build_vocab_from_iterator(map(tokenizer, train_iter), specials=[\"<unk>\"])\n",
    "vocab.set_default_index(vocab[\"<unk>\"])\n",
    "\n",
    "def data_process(raw_text_iter):\n",
    "  data = [torch.tensor(vocab(tokenizer(item)), dtype=torch.long) for item in raw_text_iter]\n",
    "  return torch.cat(tuple(filter(lambda t: t.numel() > 0, data)))\n",
    "\n",
    "train_iter, val_iter, test_iter = WikiText2()\n",
    "train_data = data_process(train_iter)\n",
    "val_data = data_process(val_iter)\n",
    "test_data = data_process(test_iter)\n",
    "\n",
    "device = torch.device(\"cuda\" if torch.cuda.is_available() else \"cpu\")\n",
    "\n",
    "def batchify(data, bsz):\n",
    "    # Divide the dataset into bsz parts.\n",
    "    nbatch = data.size(0) // bsz\n",
    "    # Trim off any extra elements that wouldn't cleanly fit (remainders).\n",
    "    data = data.narrow(0, 0, nbatch * bsz)\n",
    "    # Evenly divide the data across the bsz batches.\n",
    "    data = data.view(bsz, -1).t().contiguous()\n",
    "    return data.to(device)\n",
    "\n",
    "batch_size = 20\n",
    "eval_batch_size = 10\n",
    "train_data = batchify(train_data, batch_size)\n",
    "val_data = batchify(val_data, eval_batch_size)\n",
    "test_data = batchify(test_data, eval_batch_size)"
   ]
  },
  {
   "cell_type": "code",
   "execution_count": 37,
   "metadata": {
    "pycharm": {
     "name": "#%%\n"
    }
   },
   "outputs": [
    {
     "data": {
      "text/plain": [
       "torch.Size([102499, 20])"
      ]
     },
     "execution_count": 37,
     "metadata": {},
     "output_type": "execute_result"
    }
   ],
   "source": [
    "train_data.shape\n"
   ]
  },
  {
   "cell_type": "code",
   "execution_count": 38,
   "metadata": {
    "pycharm": {
     "name": "#%%\n"
    }
   },
   "outputs": [
    {
     "data": {
      "text/plain": [
       "torch.Size([21441, 10])"
      ]
     },
     "execution_count": 38,
     "metadata": {},
     "output_type": "execute_result"
    }
   ],
   "source": [
    "val_data.shape\n"
   ]
  },
  {
   "cell_type": "code",
   "execution_count": 39,
   "metadata": {
    "pycharm": {
     "name": "#%%\n"
    }
   },
   "outputs": [
    {
     "data": {
      "text/plain": [
       "torch.Size([24185, 10])"
      ]
     },
     "execution_count": 39,
     "metadata": {},
     "output_type": "execute_result"
    }
   ],
   "source": [
    "test_data.shape\n"
   ]
  },
  {
   "cell_type": "code",
   "execution_count": 40,
   "metadata": {
    "pycharm": {
     "name": "#%%\n"
    }
   },
   "outputs": [],
   "source": [
    "bptt = 35\n",
    "def get_batch(source, i):\n",
    "    seq_len = min(bptt, len(source) - 1 - i)\n",
    "    data = source[i:i+seq_len]\n",
    "    target = source[i+1:i+1+seq_len].reshape(-1)\n",
    "    return data, target"
   ]
  },
  {
   "cell_type": "code",
   "execution_count": 41,
   "metadata": {
    "pycharm": {
     "name": "#%%\n"
    }
   },
   "outputs": [],
   "source": [
    "ntokens = len(vocab) # the size of vocabulary\n",
    "emsize = 200 # embedding dimension\n",
    "nhid = 200 # the dimension of the feedforward network model in nn.TransformerEncoder\n",
    "nlayers = 2 # the number of nn.TransformerEncoderLayer in nn.TransformerEncoder\n",
    "nhead = 2 # the number of heads in the multiheadattention models\n",
    "dropout = 0.2 # the dropout value\n",
    "model = TransformerModel(ntokens, emsize, nhead, nhid, nlayers, dropout).to(device)"
   ]
  },
  {
   "cell_type": "code",
   "execution_count": 42,
   "metadata": {
    "pycharm": {
     "name": "#%%\n"
    }
   },
   "outputs": [],
   "source": [
    "import time\n",
    "\n",
    "criterion = nn.CrossEntropyLoss()\n",
    "lr = 5.0 # learning rate\n",
    "optimizer = torch.optim.SGD(model.parameters(), lr=lr)\n",
    "scheduler = torch.optim.lr_scheduler.StepLR(optimizer, 1.0, gamma=0.95)\n",
    "\n",
    "def train():\n",
    "    model.train() # Turn on the train mode\n",
    "    total_loss = 0.\n",
    "    start_time = time.time()\n",
    "    src_mask = model.generate_square_subsequent_mask(bptt).to(device)\n",
    "    for batch, i in enumerate(range(0, train_data.size(0) - 1, bptt)):\n",
    "        data, targets = get_batch(train_data, i)\n",
    "        optimizer.zero_grad()\n",
    "        if data.size(0) != bptt:\n",
    "            src_mask = model.generate_square_subsequent_mask(data.size(0)).to(device)\n",
    "        output = model(data, src_mask)\n",
    "        loss = criterion(output.view(-1, ntokens), targets)\n",
    "        loss.backward()\n",
    "        torch.nn.utils.clip_grad_norm_(model.parameters(), 0.5)\n",
    "        optimizer.step()\n",
    "\n",
    "        total_loss += loss.item()\n",
    "        log_interval = 200\n",
    "        if batch % log_interval == 0 and batch > 0:\n",
    "            cur_loss = total_loss / log_interval\n",
    "            elapsed = time.time() - start_time\n",
    "            print('| epoch {:3d} | {:5d}/{:5d} batches | '\n",
    "                  'lr {:02.2f} | ms/batch {:5.2f} | '\n",
    "                  'loss {:5.2f} | ppl {:8.2f}'.format(\n",
    "                    epoch, batch, len(train_data) // bptt, scheduler.get_last_lr()[0],\n",
    "                    elapsed * 1000 / log_interval,\n",
    "                    cur_loss, math.exp(cur_loss)))\n",
    "            total_loss = 0\n",
    "            start_time = time.time()\n",
    "\n",
    "def evaluate(eval_model, data_source):\n",
    "    eval_model.eval() # Turn on the evaluation mode\n",
    "    total_loss = 0.\n",
    "    src_mask = model.generate_square_subsequent_mask(bptt).to(device)\n",
    "    with torch.no_grad():\n",
    "        for i in range(0, data_source.size(0) - 1, bptt):\n",
    "            data, targets = get_batch(data_source, i)\n",
    "            if data.size(0) != bptt:\n",
    "                src_mask = model.generate_square_subsequent_mask(data.size(0)).to(device)\n",
    "            output = eval_model(data, src_mask)\n",
    "            output_flat = output.view(-1, ntokens)\n",
    "            total_loss += len(data) * criterion(output_flat, targets).item()\n",
    "    return total_loss / (len(data_source) - 1)"
   ]
  },
  {
   "cell_type": "code",
   "execution_count": 43,
   "metadata": {
    "pycharm": {
     "name": "#%%\n"
    }
   },
   "outputs": [
    {
     "ename": "RuntimeError",
     "evalue": "The size of tensor a (20) must match the size of tensor b (200) at non-singleton dimension 2",
     "output_type": "error",
     "traceback": [
      "\u001B[0;31m---------------------------------------------------------------------------\u001B[0m",
      "\u001B[0;31mRuntimeError\u001B[0m                              Traceback (most recent call last)",
      "\u001B[0;32m<ipython-input-43-f49023471e7d>\u001B[0m in \u001B[0;36m<module>\u001B[0;34m\u001B[0m\n\u001B[1;32m      5\u001B[0m \u001B[0;32mfor\u001B[0m \u001B[0mepoch\u001B[0m \u001B[0;32min\u001B[0m \u001B[0mrange\u001B[0m\u001B[0;34m(\u001B[0m\u001B[0;36m1\u001B[0m\u001B[0;34m,\u001B[0m \u001B[0mepochs\u001B[0m \u001B[0;34m+\u001B[0m \u001B[0;36m1\u001B[0m\u001B[0;34m)\u001B[0m\u001B[0;34m:\u001B[0m\u001B[0;34m\u001B[0m\u001B[0;34m\u001B[0m\u001B[0m\n\u001B[1;32m      6\u001B[0m     \u001B[0mepoch_start_time\u001B[0m \u001B[0;34m=\u001B[0m \u001B[0mtime\u001B[0m\u001B[0;34m.\u001B[0m\u001B[0mtime\u001B[0m\u001B[0;34m(\u001B[0m\u001B[0;34m)\u001B[0m\u001B[0;34m\u001B[0m\u001B[0;34m\u001B[0m\u001B[0m\n\u001B[0;32m----> 7\u001B[0;31m     \u001B[0mtrain\u001B[0m\u001B[0;34m(\u001B[0m\u001B[0;34m)\u001B[0m\u001B[0;34m\u001B[0m\u001B[0;34m\u001B[0m\u001B[0m\n\u001B[0m\u001B[1;32m      8\u001B[0m     \u001B[0mval_loss\u001B[0m \u001B[0;34m=\u001B[0m \u001B[0mevaluate\u001B[0m\u001B[0;34m(\u001B[0m\u001B[0mmodel\u001B[0m\u001B[0;34m,\u001B[0m \u001B[0mval_data\u001B[0m\u001B[0;34m)\u001B[0m\u001B[0;34m\u001B[0m\u001B[0;34m\u001B[0m\u001B[0m\n\u001B[1;32m      9\u001B[0m     \u001B[0mprint\u001B[0m\u001B[0;34m(\u001B[0m\u001B[0;34m'-'\u001B[0m \u001B[0;34m*\u001B[0m \u001B[0;36m89\u001B[0m\u001B[0;34m)\u001B[0m\u001B[0;34m\u001B[0m\u001B[0;34m\u001B[0m\u001B[0m\n",
      "\u001B[0;32m<ipython-input-42-6702893cc696>\u001B[0m in \u001B[0;36mtrain\u001B[0;34m()\u001B[0m\n\u001B[1;32m     16\u001B[0m         \u001B[0;32mif\u001B[0m \u001B[0mdata\u001B[0m\u001B[0;34m.\u001B[0m\u001B[0msize\u001B[0m\u001B[0;34m(\u001B[0m\u001B[0;36m0\u001B[0m\u001B[0;34m)\u001B[0m \u001B[0;34m!=\u001B[0m \u001B[0mbptt\u001B[0m\u001B[0;34m:\u001B[0m\u001B[0;34m\u001B[0m\u001B[0;34m\u001B[0m\u001B[0m\n\u001B[1;32m     17\u001B[0m             \u001B[0msrc_mask\u001B[0m \u001B[0;34m=\u001B[0m \u001B[0mmodel\u001B[0m\u001B[0;34m.\u001B[0m\u001B[0mgenerate_square_subsequent_mask\u001B[0m\u001B[0;34m(\u001B[0m\u001B[0mdata\u001B[0m\u001B[0;34m.\u001B[0m\u001B[0msize\u001B[0m\u001B[0;34m(\u001B[0m\u001B[0;36m0\u001B[0m\u001B[0;34m)\u001B[0m\u001B[0;34m)\u001B[0m\u001B[0;34m.\u001B[0m\u001B[0mto\u001B[0m\u001B[0;34m(\u001B[0m\u001B[0mdevice\u001B[0m\u001B[0;34m)\u001B[0m\u001B[0;34m\u001B[0m\u001B[0;34m\u001B[0m\u001B[0m\n\u001B[0;32m---> 18\u001B[0;31m         \u001B[0moutput\u001B[0m \u001B[0;34m=\u001B[0m \u001B[0mmodel\u001B[0m\u001B[0;34m(\u001B[0m\u001B[0mdata\u001B[0m\u001B[0;34m,\u001B[0m \u001B[0msrc_mask\u001B[0m\u001B[0;34m)\u001B[0m\u001B[0;34m\u001B[0m\u001B[0;34m\u001B[0m\u001B[0m\n\u001B[0m\u001B[1;32m     19\u001B[0m         \u001B[0mloss\u001B[0m \u001B[0;34m=\u001B[0m \u001B[0mcriterion\u001B[0m\u001B[0;34m(\u001B[0m\u001B[0moutput\u001B[0m\u001B[0;34m.\u001B[0m\u001B[0mview\u001B[0m\u001B[0;34m(\u001B[0m\u001B[0;34m-\u001B[0m\u001B[0;36m1\u001B[0m\u001B[0;34m,\u001B[0m \u001B[0mntokens\u001B[0m\u001B[0;34m)\u001B[0m\u001B[0;34m,\u001B[0m \u001B[0mtargets\u001B[0m\u001B[0;34m)\u001B[0m\u001B[0;34m\u001B[0m\u001B[0;34m\u001B[0m\u001B[0m\n\u001B[1;32m     20\u001B[0m         \u001B[0mloss\u001B[0m\u001B[0;34m.\u001B[0m\u001B[0mbackward\u001B[0m\u001B[0;34m(\u001B[0m\u001B[0;34m)\u001B[0m\u001B[0;34m\u001B[0m\u001B[0;34m\u001B[0m\u001B[0m\n",
      "\u001B[0;32m~/anaconda3/envs/torch_py38_env/lib/python3.8/site-packages/torch/nn/modules/module.py\u001B[0m in \u001B[0;36m_call_impl\u001B[0;34m(self, *input, **kwargs)\u001B[0m\n\u001B[1;32m   1049\u001B[0m         if not (self._backward_hooks or self._forward_hooks or self._forward_pre_hooks or _global_backward_hooks\n\u001B[1;32m   1050\u001B[0m                 or _global_forward_hooks or _global_forward_pre_hooks):\n\u001B[0;32m-> 1051\u001B[0;31m             \u001B[0;32mreturn\u001B[0m \u001B[0mforward_call\u001B[0m\u001B[0;34m(\u001B[0m\u001B[0;34m*\u001B[0m\u001B[0minput\u001B[0m\u001B[0;34m,\u001B[0m \u001B[0;34m**\u001B[0m\u001B[0mkwargs\u001B[0m\u001B[0;34m)\u001B[0m\u001B[0;34m\u001B[0m\u001B[0;34m\u001B[0m\u001B[0m\n\u001B[0m\u001B[1;32m   1052\u001B[0m         \u001B[0;31m# Do not call functions when jit is used\u001B[0m\u001B[0;34m\u001B[0m\u001B[0;34m\u001B[0m\u001B[0;34m\u001B[0m\u001B[0m\n\u001B[1;32m   1053\u001B[0m         \u001B[0mfull_backward_hooks\u001B[0m\u001B[0;34m,\u001B[0m \u001B[0mnon_full_backward_hooks\u001B[0m \u001B[0;34m=\u001B[0m \u001B[0;34m[\u001B[0m\u001B[0;34m]\u001B[0m\u001B[0;34m,\u001B[0m \u001B[0;34m[\u001B[0m\u001B[0;34m]\u001B[0m\u001B[0;34m\u001B[0m\u001B[0;34m\u001B[0m\u001B[0m\n",
      "\u001B[0;32m<ipython-input-34-0e216e10d5e6>\u001B[0m in \u001B[0;36mforward\u001B[0;34m(self, src, src_mask)\u001B[0m\n\u001B[1;32m     27\u001B[0m         \u001B[0;31m# src = self.encoder(src) * math.sqrt(self.ninp)\u001B[0m\u001B[0;34m\u001B[0m\u001B[0;34m\u001B[0m\u001B[0;34m\u001B[0m\u001B[0m\n\u001B[1;32m     28\u001B[0m         \u001B[0msrc\u001B[0m \u001B[0;34m=\u001B[0m \u001B[0msrc\u001B[0m \u001B[0;34m*\u001B[0m \u001B[0mmath\u001B[0m\u001B[0;34m.\u001B[0m\u001B[0msqrt\u001B[0m\u001B[0;34m(\u001B[0m\u001B[0mself\u001B[0m\u001B[0;34m.\u001B[0m\u001B[0mninp\u001B[0m\u001B[0;34m)\u001B[0m\u001B[0;34m\u001B[0m\u001B[0;34m\u001B[0m\u001B[0m\n\u001B[0;32m---> 29\u001B[0;31m         \u001B[0msrc\u001B[0m \u001B[0;34m=\u001B[0m \u001B[0mself\u001B[0m\u001B[0;34m.\u001B[0m\u001B[0mpos_encoder\u001B[0m\u001B[0;34m(\u001B[0m\u001B[0msrc\u001B[0m\u001B[0;34m)\u001B[0m\u001B[0;34m\u001B[0m\u001B[0;34m\u001B[0m\u001B[0m\n\u001B[0m\u001B[1;32m     30\u001B[0m         \u001B[0moutput\u001B[0m \u001B[0;34m=\u001B[0m \u001B[0mself\u001B[0m\u001B[0;34m.\u001B[0m\u001B[0mtransformer_encoder\u001B[0m\u001B[0;34m(\u001B[0m\u001B[0msrc\u001B[0m\u001B[0;34m,\u001B[0m \u001B[0msrc_mask\u001B[0m\u001B[0;34m)\u001B[0m\u001B[0;34m\u001B[0m\u001B[0;34m\u001B[0m\u001B[0m\n\u001B[1;32m     31\u001B[0m         \u001B[0moutput\u001B[0m \u001B[0;34m=\u001B[0m \u001B[0mself\u001B[0m\u001B[0;34m.\u001B[0m\u001B[0mdecoder\u001B[0m\u001B[0;34m(\u001B[0m\u001B[0moutput\u001B[0m\u001B[0;34m)\u001B[0m\u001B[0;34m\u001B[0m\u001B[0;34m\u001B[0m\u001B[0m\n",
      "\u001B[0;32m~/anaconda3/envs/torch_py38_env/lib/python3.8/site-packages/torch/nn/modules/module.py\u001B[0m in \u001B[0;36m_call_impl\u001B[0;34m(self, *input, **kwargs)\u001B[0m\n\u001B[1;32m   1049\u001B[0m         if not (self._backward_hooks or self._forward_hooks or self._forward_pre_hooks or _global_backward_hooks\n\u001B[1;32m   1050\u001B[0m                 or _global_forward_hooks or _global_forward_pre_hooks):\n\u001B[0;32m-> 1051\u001B[0;31m             \u001B[0;32mreturn\u001B[0m \u001B[0mforward_call\u001B[0m\u001B[0;34m(\u001B[0m\u001B[0;34m*\u001B[0m\u001B[0minput\u001B[0m\u001B[0;34m,\u001B[0m \u001B[0;34m**\u001B[0m\u001B[0mkwargs\u001B[0m\u001B[0;34m)\u001B[0m\u001B[0;34m\u001B[0m\u001B[0;34m\u001B[0m\u001B[0m\n\u001B[0m\u001B[1;32m   1052\u001B[0m         \u001B[0;31m# Do not call functions when jit is used\u001B[0m\u001B[0;34m\u001B[0m\u001B[0;34m\u001B[0m\u001B[0;34m\u001B[0m\u001B[0m\n\u001B[1;32m   1053\u001B[0m         \u001B[0mfull_backward_hooks\u001B[0m\u001B[0;34m,\u001B[0m \u001B[0mnon_full_backward_hooks\u001B[0m \u001B[0;34m=\u001B[0m \u001B[0;34m[\u001B[0m\u001B[0;34m]\u001B[0m\u001B[0;34m,\u001B[0m \u001B[0;34m[\u001B[0m\u001B[0;34m]\u001B[0m\u001B[0;34m\u001B[0m\u001B[0;34m\u001B[0m\u001B[0m\n",
      "\u001B[0;32m<ipython-input-35-760ace1b9fd6>\u001B[0m in \u001B[0;36mforward\u001B[0;34m(self, x)\u001B[0m\n\u001B[1;32m     14\u001B[0m \u001B[0;34m\u001B[0m\u001B[0m\n\u001B[1;32m     15\u001B[0m     \u001B[0;32mdef\u001B[0m \u001B[0mforward\u001B[0m\u001B[0;34m(\u001B[0m\u001B[0mself\u001B[0m\u001B[0;34m,\u001B[0m \u001B[0mx\u001B[0m\u001B[0;34m)\u001B[0m\u001B[0;34m:\u001B[0m\u001B[0;34m\u001B[0m\u001B[0;34m\u001B[0m\u001B[0m\n\u001B[0;32m---> 16\u001B[0;31m         \u001B[0mx\u001B[0m \u001B[0;34m=\u001B[0m \u001B[0mx\u001B[0m \u001B[0;34m+\u001B[0m \u001B[0mself\u001B[0m\u001B[0;34m.\u001B[0m\u001B[0mpe\u001B[0m\u001B[0;34m[\u001B[0m\u001B[0;34m:\u001B[0m\u001B[0mx\u001B[0m\u001B[0;34m.\u001B[0m\u001B[0msize\u001B[0m\u001B[0;34m(\u001B[0m\u001B[0;36m0\u001B[0m\u001B[0;34m)\u001B[0m\u001B[0;34m,\u001B[0m \u001B[0;34m:\u001B[0m\u001B[0;34m]\u001B[0m\u001B[0;34m\u001B[0m\u001B[0;34m\u001B[0m\u001B[0m\n\u001B[0m\u001B[1;32m     17\u001B[0m         \u001B[0;32mreturn\u001B[0m \u001B[0mself\u001B[0m\u001B[0;34m.\u001B[0m\u001B[0mdropout\u001B[0m\u001B[0;34m(\u001B[0m\u001B[0mx\u001B[0m\u001B[0;34m)\u001B[0m\u001B[0;34m\u001B[0m\u001B[0;34m\u001B[0m\u001B[0m\n\u001B[1;32m     18\u001B[0m \u001B[0;34m\u001B[0m\u001B[0m\n",
      "\u001B[0;31mRuntimeError\u001B[0m: The size of tensor a (20) must match the size of tensor b (200) at non-singleton dimension 2"
     ]
    }
   ],
   "source": [
    "best_val_loss = float(\"inf\")\n",
    "epochs = 3 # The number of epochs\n",
    "best_model = None\n",
    "\n",
    "for epoch in range(1, epochs + 1):\n",
    "    epoch_start_time = time.time()\n",
    "    train()\n",
    "    val_loss = evaluate(model, val_data)\n",
    "    print('-' * 89)\n",
    "    print('| end of epoch {:3d} | time: {:5.2f}s | valid loss {:5.2f} | '\n",
    "          'valid ppl {:8.2f}'.format(epoch, (time.time() - epoch_start_time),\n",
    "                                     val_loss, math.exp(val_loss)))\n",
    "    print('-' * 89)\n",
    "\n",
    "    if val_loss < best_val_loss:\n",
    "        best_val_loss = val_loss\n",
    "        best_model = model\n",
    "\n",
    "    scheduler.step()"
   ]
  },
  {
   "cell_type": "code",
   "execution_count": 14,
   "metadata": {
    "pycharm": {
     "name": "#%%\n"
    }
   },
   "outputs": [
    {
     "name": "stdout",
     "output_type": "stream",
     "text": [
      "=========================================================================================\n",
      "| End of training | test loss  5.45 | test ppl   231.72\n",
      "=========================================================================================\n"
     ]
    }
   ],
   "source": [
    "test_loss = evaluate(best_model, test_data)\n",
    "print('=' * 89)\n",
    "print('| End of training | test loss {:5.2f} | test ppl {:8.2f}'.format(\n",
    "    test_loss, math.exp(test_loss)))\n",
    "print('=' * 89)\n"
   ]
  },
  {
   "cell_type": "code",
   "execution_count": 16,
   "metadata": {
    "pycharm": {
     "name": "#%%\n"
    }
   },
   "outputs": [],
   "source": [
    "position = torch.arange(0, 10, dtype=torch.float).unsqueeze(1)"
   ]
  },
  {
   "cell_type": "code",
   "execution_count": 18,
   "metadata": {
    "pycharm": {
     "name": "#%%\n"
    }
   },
   "outputs": [
    {
     "data": {
      "text/plain": [
       "torch.Size([10, 1])"
      ]
     },
     "execution_count": 18,
     "metadata": {},
     "output_type": "execute_result"
    }
   ],
   "source": [
    "position.shape\n"
   ]
  },
  {
   "cell_type": "code",
   "execution_count": 19,
   "metadata": {
    "pycharm": {
     "name": "#%%\n"
    }
   },
   "outputs": [],
   "source": [
    "max_len = 10\n",
    "d_model = 4"
   ]
  },
  {
   "cell_type": "code",
   "execution_count": 20,
   "metadata": {
    "pycharm": {
     "name": "#%%\n"
    }
   },
   "outputs": [],
   "source": [
    "pe = torch.zeros(max_len, d_model)\n",
    "position = torch.arange(0, max_len, dtype=torch.float).unsqueeze(1)\n",
    "div_term = torch.exp(torch.arange(0, d_model, 2).float() * (-math.log(10000.0) / d_model))\n",
    "pe[:, 0::2] = torch.sin(position * div_term)\n",
    "pe[:, 1::2] = torch.cos(position * div_term)\n"
   ]
  },
  {
   "cell_type": "code",
   "execution_count": 22,
   "metadata": {
    "pycharm": {
     "name": "#%%\n"
    }
   },
   "outputs": [
    {
     "data": {
      "text/plain": [
       "tensor([[ 0.0000,  1.0000,  0.0000,  1.0000],\n",
       "        [ 0.8415,  0.5403,  0.0100,  0.9999],\n",
       "        [ 0.9093, -0.4161,  0.0200,  0.9998],\n",
       "        [ 0.1411, -0.9900,  0.0300,  0.9996],\n",
       "        [-0.7568, -0.6536,  0.0400,  0.9992],\n",
       "        [-0.9589,  0.2837,  0.0500,  0.9988],\n",
       "        [-0.2794,  0.9602,  0.0600,  0.9982],\n",
       "        [ 0.6570,  0.7539,  0.0699,  0.9976],\n",
       "        [ 0.9894, -0.1455,  0.0799,  0.9968],\n",
       "        [ 0.4121, -0.9111,  0.0899,  0.9960]])"
      ]
     },
     "execution_count": 22,
     "metadata": {},
     "output_type": "execute_result"
    }
   ],
   "source": []
  },
  {
   "cell_type": "code",
   "execution_count": 30,
   "metadata": {
    "pycharm": {
     "name": "#%%\n"
    }
   },
   "outputs": [
    {
     "data": {
      "text/plain": [
       "'WikiText2'"
      ]
     },
     "execution_count": 30,
     "metadata": {},
     "output_type": "execute_result"
    }
   ],
   "source": [
    "train_iter.description"
   ]
  },
  {
   "cell_type": "code",
   "execution_count": null,
   "metadata": {
    "pycharm": {
     "name": "#%%\n"
    }
   },
   "outputs": [],
   "source": []
  }
 ],
 "metadata": {
  "kernelspec": {
   "display_name": "Python 3",
   "language": "python",
   "name": "python3"
  },
  "language_info": {
   "codemirror_mode": {
    "name": "ipython",
    "version": 3
   },
   "file_extension": ".py",
   "mimetype": "text/x-python",
   "name": "python",
   "nbconvert_exporter": "python",
   "pygments_lexer": "ipython3",
   "version": "3.8.10"
  }
 },
 "nbformat": 4,
 "nbformat_minor": 1
}